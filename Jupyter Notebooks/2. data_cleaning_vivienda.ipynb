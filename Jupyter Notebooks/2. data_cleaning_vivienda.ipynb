{
 "cells": [
  {
   "cell_type": "code",
   "execution_count": 1,
   "metadata": {},
   "outputs": [
    {
     "name": "stderr",
     "output_type": "stream",
     "text": [
      "C:\\Users\\joyce\\anaconda3\\lib\\site-packages\\IPython\\core\\interactiveshell.py:3071: DtypeWarning: Columns (12,16) have mixed types.Specify dtype option on import or set low_memory=False.\n",
      "  has_raised = await self.run_ast_nodes(code_ast.body, cell_name,\n"
     ]
    }
   ],
   "source": [
    "# Import dependencies needes\n",
    "import pandas as pd\n",
    "import numpy as np\n",
    "\n",
    "# File to Load \n",
    "file_path = \"Resources/vivienda.csv\"\n",
    "\n",
    "# Read Purchasing File and store into Pandas data frame\n",
    "vivienda = pd.read_csv(file_path, encoding='ISO-8859-1')"
   ]
  },
  {
   "cell_type": "code",
   "execution_count": 2,
   "metadata": {},
   "outputs": [
    {
     "data": {
      "text/plain": [
       "Index(['cve_entidad', 'desc_entidad', 'cve_municipio', 'desc_municipio',\n",
       "       'id_indicador', 'indicador', '1950', '1960', '1970', '1980', '1990',\n",
       "       '1995', '2000', '2005', '2010', '2014', '2015', '2020',\n",
       "       'unidad_medida'],\n",
       "      dtype='object')"
      ]
     },
     "execution_count": 2,
     "metadata": {},
     "output_type": "execute_result"
    }
   ],
   "source": [
    "#Get the name of the columns\n",
    "vivienda.columns"
   ]
  },
  {
   "cell_type": "code",
   "execution_count": 3,
   "metadata": {},
   "outputs": [],
   "source": [
    "v_columns = vivienda[['cve_entidad','desc_entidad', 'cve_municipio', 'desc_municipio',\n",
    "       'id_indicador', 'indicador','2020',\n",
    "       'unidad_medida' ]]"
   ]
  },
  {
   "cell_type": "code",
   "execution_count": 4,
   "metadata": {},
   "outputs": [
    {
     "data": {
      "text/plain": [
       "Disponibilidad de bienes: Automóvil o camioneta                               2502\n",
       "Disponibilidad de bienes: Bicicleta como medio de transporte                  2502\n",
       "Disponibilidad de bienes: Lavadora                                            2502\n",
       "Disponibilidad de bienes: Motocicleta o motoneta                              2502\n",
       "Disponibilidad de bienes: Refrigerador                                        2502\n",
       "                                                                              ... \n",
       "Viviendas que son casa independiente o local no construido para habitación      33\n",
       "Viviendas que son cuarto de azotea                                              33\n",
       "Viviendas que son departamento en edificio o vivienda en vecindad               33\n",
       "Viviendas que son refugio                                                       33\n",
       "Viviendas, de cada cien que cuentan con electricidad, agua y drenaje            33\n",
       "Name: indicador, Length: 127, dtype: int64"
      ]
     },
     "execution_count": 4,
     "metadata": {},
     "output_type": "execute_result"
    }
   ],
   "source": [
    "# Check the count of indicators \n",
    "i = v_columns['indicador'].value_counts().sort_index()\n",
    "i"
   ]
  },
  {
   "cell_type": "code",
   "execution_count": 5,
   "metadata": {},
   "outputs": [
    {
     "data": {
      "text/plain": [
       "Disponibilidad de bienes: Automóvil o camioneta                                                           2502\n",
       "Disponibilidad de bienes: Bicicleta como medio de transporte                                              2502\n",
       "Disponibilidad de bienes: Lavadora                                                                        2502\n",
       "Disponibilidad de bienes: Motocicleta o motoneta                                                          2502\n",
       "Disponibilidad de bienes: Refrigerador                                                                    2502\n",
       "Disponibilidad de servicios en la vivienda: Cisterna o aljibe                                             2502\n",
       "Disponibilidad de servicios en la vivienda: Tinaco                                                        2502\n",
       "Porcentaje de viviendas con agua entubada                                                                 2490\n",
       "Porcentaje de viviendas con agua entubada dentro de la vivienda                                           2502\n",
       "Porcentaje de viviendas con drenaje                                                                       2490\n",
       "Porcentaje de viviendas con electricidad                                                                  2502\n",
       "Porcentaje de viviendas con piso de tierra                                                                2502\n",
       "Porcentaje de viviendas donde separan en orgánico e inorgánico los residuos                               2490\n",
       "Porcentaje de viviendas donde todos sus focos son ahorradores                                             2490\n",
       "Porcentaje de viviendas en el ámbito geográfico de referencia respecto a la unidad geográfica superior    2490\n",
       "Porcentaje de viviendas particulares habitadas alquiladas                                                 2490\n",
       "Porcentaje de viviendas particulares habitadas con  techos precarios                                      2490\n",
       "Porcentaje de viviendas particulares habitadas con disponibilidad de drenaje                              2502\n",
       "Porcentaje de viviendas particulares habitadas con disponibilidad de excusado                             2502\n",
       "Porcentaje de viviendas particulares habitadas con paredes precarias                                      2490\n",
       "Porcentaje de viviendas particulares habitadas con tenencia no especificada                               2490\n",
       "Porcentaje de viviendas particulares habitadas de un familiar o prestada                                  2490\n",
       "Porcentaje de viviendas particulares habitadas en otra situación de tenencia                              2490\n",
       "Porcentaje de viviendas particulares habitadas propias                                                    2490\n",
       "Porcentaje de viviendas particulares habitadas que disponen de Internet                                   2502\n",
       "Porcentaje de viviendas particulares habitadas que disponen de computadora                                2502\n",
       "Porcentaje de viviendas particulares habitadas que disponen de pantalla plana                             2490\n",
       "Porcentaje de viviendas particulares habitadas que disponen de televisión de paga                         2502\n",
       "Porcentaje de viviendas particulares habitadas que disponen de teléfono celular                           2502\n",
       "Porcentaje de viviendas particulares habitadas que disponen de teléfono fijo                              2502\n",
       "Porcentaje de viviendas que disponen de calentador solar de agua                                          2490\n",
       "Porcentaje de viviendas que disponen de panel solar para tener electricidad                               2490\n",
       "Porcentaje de viviendas que disponen de sanitario                                                         2490\n",
       "Promedio de ocupantes en viviendas particulares habitadas                                                 2503\n",
       "Promedio de ocupantes por cuarto (Índice de hacinamiento)                                                 2502\n",
       "Total de viviendas particulares habitadas                                                                 2503\n",
       "Viviendas particulares habitadas                                                                          2490\n",
       "Viviendas particulares habitadas que disponen de agua de la red pública en el ámbito de la vivienda       2490\n",
       "Viviendas particulares habitadas que disponen de computadora                                              2490\n",
       "Viviendas particulares habitadas que disponen de drenaje                                                  2490\n",
       "Viviendas particulares habitadas que disponen de energía eléctrica                                        2490\n",
       "Viviendas particulares habitadas que disponen de excusado o sanitario                                     2490\n",
       "Viviendas particulares habitadas que disponen de lavadora                                                 2490\n",
       "Name: indicador, dtype: int64"
      ]
     },
     "execution_count": 5,
     "metadata": {},
     "output_type": "execute_result"
    }
   ],
   "source": [
    "# Since we saw that there are some indicators that we don't need because of it's value count, we drop them\n",
    "v_columns2=v_columns[v_columns['indicador'].isin(v_columns['indicador'].value_counts()[v_columns['indicador'].value_counts()>33].index)]\n",
    "\n",
    "# We verify that the indicators were successfully deleted\n",
    "v_columns2['indicador'].value_counts().sort_index()"
   ]
  },
  {
   "cell_type": "code",
   "execution_count": 6,
   "metadata": {},
   "outputs": [],
   "source": [
    "# In this section of code we realized that we have to check the missing values of each 'indicador', so we can drop\n",
    "# the ones that are not useful because they have excess of NaN's\n",
    "\n",
    "# Get the list of the values left\n",
    "i_values = v_columns2['indicador'].unique()\n",
    "\n",
    "# Initialize list that will save the sum of the missing values\n",
    "cond=[]\n",
    "\n",
    "# Initialize list for the boolean array\n",
    "boolean = []\n",
    "\n",
    "# Loop to identify the sum of the missing values according to each 'indicador'\n",
    "for val in i_values:\n",
    "    df = v_columns2[v_columns2['indicador'] == val]\n",
    "    cond.append(df['2020'].isna().sum())\n",
    "\n",
    "# Loop to create a vector with boolean values for the 'indicadores' that have more than one missing value\n",
    "for x in cond:\n",
    "    if x>1:\n",
    "        boolean.append(True)\n",
    "    else:\n",
    "        boolean.append(False)\n",
    "        \n",
    "# Get the name of the 'indicadores' that have more than one missing value\n",
    "mv_i = i_values[boolean]"
   ]
  },
  {
   "cell_type": "code",
   "execution_count": 7,
   "metadata": {},
   "outputs": [
    {
     "data": {
      "text/plain": [
       "20"
      ]
     },
     "execution_count": 7,
     "metadata": {},
     "output_type": "execute_result"
    }
   ],
   "source": [
    "# Initialize our new data frame\n",
    "v_clean = v_columns2\n",
    "\n",
    "# Loop to eliminate the 'indicadores' that have too many missing values\n",
    "for x in mv_i:\n",
    "    v_clean = v_clean[v_clean['indicador'] != x]\n",
    "    \n",
    "# Check the lenght of the 'indicadores' that are left and that do not have NaN's\n",
    "len(v_clean['indicador'].unique())"
   ]
  },
  {
   "cell_type": "code",
   "execution_count": 8,
   "metadata": {},
   "outputs": [
    {
     "data": {
      "text/plain": [
       "43"
      ]
     },
     "execution_count": 8,
     "metadata": {},
     "output_type": "execute_result"
    }
   ],
   "source": [
    "# Check the lenght of the 'indicadores' before the Nan's were dropped\n",
    "len(v_columns2['indicador'].unique())"
   ]
  },
  {
   "cell_type": "code",
   "execution_count": 9,
   "metadata": {},
   "outputs": [
    {
     "data": {
      "text/plain": [
       "23"
      ]
     },
     "execution_count": 9,
     "metadata": {},
     "output_type": "execute_result"
    }
   ],
   "source": [
    "# Check the lenght of 'indicadores' that we wanted to drop \n",
    "len(mv_i)"
   ]
  },
  {
   "cell_type": "markdown",
   "metadata": {},
   "source": [
    "Since the sum of the  lenght of the 'indicadores' after we cleaned (20) and the lenght of the 'indicadores' that we wanted to drop (23) is 43 we are certain that we dropped the right amount of 'indicadores'"
   ]
  },
  {
   "cell_type": "code",
   "execution_count": 10,
   "metadata": {},
   "outputs": [
    {
     "data": {
      "text/plain": [
       "cve_entidad       0\n",
       "desc_entidad      0\n",
       "cve_municipio     0\n",
       "desc_municipio    0\n",
       "id_indicador      0\n",
       "indicador         0\n",
       "2020              2\n",
       "unidad_medida     0\n",
       "dtype: int64"
      ]
     },
     "execution_count": 10,
     "metadata": {},
     "output_type": "execute_result"
    }
   ],
   "source": [
    "# We have to check the remaining NaN values \n",
    "v_clean.isnull().sum()"
   ]
  },
  {
   "cell_type": "code",
   "execution_count": 11,
   "metadata": {},
   "outputs": [
    {
     "data": {
      "text/plain": [
       "9690            Total de viviendas particulares habitadas\n",
       "9692    Promedio de ocupantes en viviendas particulare...\n",
       "Name: indicador, dtype: object"
      ]
     },
     "execution_count": 11,
     "metadata": {},
     "output_type": "execute_result"
    }
   ],
   "source": [
    "# Check the position of the missing values \n",
    "mis_val = v_clean['2020'].isnull()\n",
    "\n",
    "# Get the name of the two 'indicadores' that have a missing value  \n",
    "indicador_miss = v_clean['indicador']\n",
    "indicador_miss[mis_val]"
   ]
  },
  {
   "cell_type": "code",
   "execution_count": 12,
   "metadata": {},
   "outputs": [
    {
     "data": {
      "text/html": [
       "<div>\n",
       "<style scoped>\n",
       "    .dataframe tbody tr th:only-of-type {\n",
       "        vertical-align: middle;\n",
       "    }\n",
       "\n",
       "    .dataframe tbody tr th {\n",
       "        vertical-align: top;\n",
       "    }\n",
       "\n",
       "    .dataframe thead th {\n",
       "        text-align: right;\n",
       "    }\n",
       "</style>\n",
       "<table border=\"1\" class=\"dataframe\">\n",
       "  <thead>\n",
       "    <tr style=\"text-align: right;\">\n",
       "      <th></th>\n",
       "      <th>Estado</th>\n",
       "      <th>Municipio</th>\n",
       "    </tr>\n",
       "  </thead>\n",
       "  <tbody>\n",
       "    <tr>\n",
       "      <th>9690</th>\n",
       "      <td>Chiapas</td>\n",
       "      <td>Otros municipios</td>\n",
       "    </tr>\n",
       "    <tr>\n",
       "      <th>9692</th>\n",
       "      <td>Chiapas</td>\n",
       "      <td>Otros municipios</td>\n",
       "    </tr>\n",
       "  </tbody>\n",
       "</table>\n",
       "</div>"
      ],
      "text/plain": [
       "       Estado         Municipio\n",
       "9690  Chiapas  Otros municipios\n",
       "9692  Chiapas  Otros municipios"
      ]
     },
     "execution_count": 12,
     "metadata": {},
     "output_type": "execute_result"
    }
   ],
   "source": [
    "# Get the 'estado' and 'municipio' of the missing values to see if they are relevant\n",
    "indicador_edo = v_clean['desc_entidad']\n",
    "indicador_mpo = v_clean['desc_municipio']\n",
    "\n",
    "\n",
    "pd.DataFrame({'Estado' : indicador_edo[mis_val], 'Municipio' : indicador_mpo[mis_val]})"
   ]
  },
  {
   "cell_type": "code",
   "execution_count": 13,
   "metadata": {},
   "outputs": [
    {
     "data": {
      "text/plain": [
       "cve_entidad       0\n",
       "desc_entidad      0\n",
       "cve_municipio     0\n",
       "desc_municipio    0\n",
       "id_indicador      0\n",
       "indicador         0\n",
       "2020              0\n",
       "unidad_medida     0\n",
       "dtype: int64"
      ]
     },
     "execution_count": 13,
     "metadata": {},
     "output_type": "execute_result"
    }
   ],
   "source": [
    "# Since the data was not relevant we are going to transform NaN to 0 and it will not affect our analysis\n",
    "v_clean['2020'] = v_clean['2020'].fillna(0)\n",
    "\n",
    "# Check the count of missing values\n",
    "v_clean.isnull().sum()"
   ]
  },
  {
   "cell_type": "code",
   "execution_count": 14,
   "metadata": {},
   "outputs": [
    {
     "data": {
      "text/plain": [
       "array(['Total de viviendas particulares habitadas',\n",
       "       'Promedio de ocupantes en viviendas particulares habitadas',\n",
       "       'Porcentaje de viviendas con piso de tierra',\n",
       "       'Porcentaje de viviendas con electricidad',\n",
       "       'Porcentaje de viviendas particulares habitadas con disponibilidad de drenaje',\n",
       "       'Porcentaje de viviendas particulares habitadas con disponibilidad de excusado',\n",
       "       'Porcentaje de viviendas particulares habitadas que disponen de Internet',\n",
       "       'Porcentaje de viviendas particulares habitadas que disponen de computadora',\n",
       "       'Porcentaje de viviendas particulares habitadas que disponen de teléfono fijo',\n",
       "       'Porcentaje de viviendas particulares habitadas que disponen de teléfono celular',\n",
       "       'Porcentaje de viviendas particulares habitadas que disponen de televisión de paga',\n",
       "       'Promedio de ocupantes por cuarto (Índice de hacinamiento)',\n",
       "       'Porcentaje de viviendas con agua entubada dentro de la vivienda',\n",
       "       'Disponibilidad de servicios en la vivienda: Tinaco',\n",
       "       'Disponibilidad de servicios en la vivienda: Cisterna o aljibe',\n",
       "       'Disponibilidad de bienes: Automóvil o camioneta',\n",
       "       'Disponibilidad de bienes: Motocicleta o motoneta',\n",
       "       'Disponibilidad de bienes: Bicicleta como medio de transporte',\n",
       "       'Disponibilidad de bienes: Refrigerador',\n",
       "       'Disponibilidad de bienes: Lavadora'], dtype=object)"
      ]
     },
     "execution_count": 14,
     "metadata": {},
     "output_type": "execute_result"
    }
   ],
   "source": [
    "# Check the 'indicadores' left\n",
    "v_clean['indicador'].unique()"
   ]
  },
  {
   "cell_type": "code",
   "execution_count": 15,
   "metadata": {},
   "outputs": [],
   "source": [
    "# List of the 'indicadores' that are not useful\n",
    "not_useful = ['Total de viviendas particulares habitadas',\n",
    " 'Promedio de ocupantes en viviendas particulares habitadas',\n",
    " 'Porcentaje de viviendas con piso de tierra',\n",
    " 'Promedio de ocupantes por cuarto (Índice de hacinamiento)', \n",
    " 'Disponibilidad de bienes: Bicicleta como medio de transporte']"
   ]
  },
  {
   "cell_type": "code",
   "execution_count": 16,
   "metadata": {},
   "outputs": [],
   "source": [
    "# List of the 'indicadores' that we will use for our analysis\n",
    "useful = ['Porcentaje de viviendas con electricidad',\n",
    " 'Porcentaje de viviendas particulares habitadas con disponibilidad de drenaje',\n",
    " 'Porcentaje de viviendas particulares habitadas con disponibilidad de excusado',\n",
    " 'Porcentaje de viviendas particulares habitadas que disponen de Internet',\n",
    " 'Porcentaje de viviendas particulares habitadas que disponen de computadora',\n",
    " 'Porcentaje de viviendas particulares habitadas que disponen de teléfono fijo',\n",
    " 'Porcentaje de viviendas particulares habitadas que disponen de teléfono celular',\n",
    " 'Porcentaje de viviendas particulares habitadas que disponen de televisión de paga',\n",
    " 'Porcentaje de viviendas con agua entubada dentro de la vivienda',\n",
    " 'Disponibilidad de servicios en la vivienda: Tinaco',\n",
    " 'Disponibilidad de servicios en la vivienda: Cisterna o aljibe',\n",
    " 'Disponibilidad de bienes: Automóvil o camioneta',\n",
    " 'Disponibilidad de bienes: Motocicleta o motoneta',\n",
    " 'Disponibilidad de bienes: Refrigerador',\n",
    " 'Disponibilidad de bienes: Lavadora']"
   ]
  },
  {
   "cell_type": "code",
   "execution_count": 17,
   "metadata": {},
   "outputs": [
    {
     "data": {
      "text/plain": [
       "15"
      ]
     },
     "execution_count": 17,
     "metadata": {},
     "output_type": "execute_result"
    }
   ],
   "source": [
    "# Initialize our new data frame\n",
    "v_final = v_clean\n",
    "\n",
    "# Loop to eliminate the 'indicadores' that we don't need\n",
    "for u in not_useful:\n",
    "    v_final = v_final[v_final['indicador'] != u]\n",
    "    \n",
    "# Check the lenght of the 'indicadores' that are left (should be the same lenght as the list of useful 'indicadores')\n",
    "len(v_final['indicador'].unique())"
   ]
  },
  {
   "cell_type": "code",
   "execution_count": 18,
   "metadata": {},
   "outputs": [
    {
     "data": {
      "text/plain": [
       "0"
      ]
     },
     "execution_count": 18,
     "metadata": {},
     "output_type": "execute_result"
    }
   ],
   "source": [
    "# Create an empty list were the values of the index will be added\n",
    "index = []\n",
    "\n",
    "# Select the column that contain the data that will be needed to calculate the index values\n",
    "indicadores = v_final['2020']\n",
    "\n",
    "# Loop that assings the values \n",
    "for ind in indicadores:\n",
    "    if ind>=0 and ind<10:\n",
    "        index.append(1)\n",
    "    elif ind>=10 and ind<20:\n",
    "        index.append(2)\n",
    "    elif ind>=20 and ind<30:\n",
    "        index.append(3)\n",
    "    elif ind>=30 and ind<40:\n",
    "        index.append(4)\n",
    "    elif ind>=40 and ind<50:\n",
    "        index.append(5)\n",
    "    elif ind>=50 and ind<60:\n",
    "        index.append(6)\n",
    "    elif ind>=60 and ind<70:\n",
    "        index.append(7)\n",
    "    elif ind>=70 and ind<80:\n",
    "        index.append(8)\n",
    "    elif ind>=80 and ind<90:\n",
    "        index.append(9)\n",
    "    else:\n",
    "        index.append(10)\n",
    "       \n",
    "# Verify that the index list is the same length as our final data frame  \n",
    "len(index)-len(v_final)"
   ]
  },
  {
   "cell_type": "code",
   "execution_count": 19,
   "metadata": {},
   "outputs": [
    {
     "data": {
      "text/html": [
       "<div>\n",
       "<style scoped>\n",
       "    .dataframe tbody tr th:only-of-type {\n",
       "        vertical-align: middle;\n",
       "    }\n",
       "\n",
       "    .dataframe tbody tr th {\n",
       "        vertical-align: top;\n",
       "    }\n",
       "\n",
       "    .dataframe thead th {\n",
       "        text-align: right;\n",
       "    }\n",
       "</style>\n",
       "<table border=\"1\" class=\"dataframe\">\n",
       "  <thead>\n",
       "    <tr style=\"text-align: right;\">\n",
       "      <th></th>\n",
       "      <th>cve_entidad</th>\n",
       "      <th>desc_entidad</th>\n",
       "      <th>cve_municipio</th>\n",
       "      <th>desc_municipio</th>\n",
       "      <th>id_indicador</th>\n",
       "      <th>indicador</th>\n",
       "      <th>2020</th>\n",
       "      <th>unidad_medida</th>\n",
       "      <th>Index</th>\n",
       "    </tr>\n",
       "  </thead>\n",
       "  <tbody>\n",
       "    <tr>\n",
       "      <th>12</th>\n",
       "      <td>0</td>\n",
       "      <td>Estados Unidos Mexicanos</td>\n",
       "      <td>0</td>\n",
       "      <td>Estados Unidos Mexicanos</td>\n",
       "      <td>3114006001</td>\n",
       "      <td>Porcentaje de viviendas con electricidad</td>\n",
       "      <td>99.001843</td>\n",
       "      <td>Porcentaje</td>\n",
       "      <td>10</td>\n",
       "    </tr>\n",
       "    <tr>\n",
       "      <th>13</th>\n",
       "      <td>0</td>\n",
       "      <td>Estados Unidos Mexicanos</td>\n",
       "      <td>0</td>\n",
       "      <td>Estados Unidos Mexicanos</td>\n",
       "      <td>6200031290</td>\n",
       "      <td>Porcentaje de viviendas particulares habitadas...</td>\n",
       "      <td>95.469330</td>\n",
       "      <td>Porcentaje</td>\n",
       "      <td>10</td>\n",
       "    </tr>\n",
       "    <tr>\n",
       "      <th>14</th>\n",
       "      <td>0</td>\n",
       "      <td>Estados Unidos Mexicanos</td>\n",
       "      <td>0</td>\n",
       "      <td>Estados Unidos Mexicanos</td>\n",
       "      <td>6200031291</td>\n",
       "      <td>Porcentaje de viviendas particulares habitadas...</td>\n",
       "      <td>98.070381</td>\n",
       "      <td>Porcentaje</td>\n",
       "      <td>10</td>\n",
       "    </tr>\n",
       "    <tr>\n",
       "      <th>34</th>\n",
       "      <td>0</td>\n",
       "      <td>Estados Unidos Mexicanos</td>\n",
       "      <td>0</td>\n",
       "      <td>Estados Unidos Mexicanos</td>\n",
       "      <td>6207019042</td>\n",
       "      <td>Porcentaje de viviendas particulares habitadas...</td>\n",
       "      <td>52.072835</td>\n",
       "      <td>Porcentaje</td>\n",
       "      <td>6</td>\n",
       "    </tr>\n",
       "    <tr>\n",
       "      <th>37</th>\n",
       "      <td>0</td>\n",
       "      <td>Estados Unidos Mexicanos</td>\n",
       "      <td>0</td>\n",
       "      <td>Estados Unidos Mexicanos</td>\n",
       "      <td>6207019046</td>\n",
       "      <td>Porcentaje de viviendas particulares habitadas...</td>\n",
       "      <td>37.559287</td>\n",
       "      <td>Porcentaje</td>\n",
       "      <td>4</td>\n",
       "    </tr>\n",
       "  </tbody>\n",
       "</table>\n",
       "</div>"
      ],
      "text/plain": [
       "    cve_entidad              desc_entidad  cve_municipio  \\\n",
       "12            0  Estados Unidos Mexicanos              0   \n",
       "13            0  Estados Unidos Mexicanos              0   \n",
       "14            0  Estados Unidos Mexicanos              0   \n",
       "34            0  Estados Unidos Mexicanos              0   \n",
       "37            0  Estados Unidos Mexicanos              0   \n",
       "\n",
       "              desc_municipio  id_indicador  \\\n",
       "12  Estados Unidos Mexicanos    3114006001   \n",
       "13  Estados Unidos Mexicanos    6200031290   \n",
       "14  Estados Unidos Mexicanos    6200031291   \n",
       "34  Estados Unidos Mexicanos    6207019042   \n",
       "37  Estados Unidos Mexicanos    6207019046   \n",
       "\n",
       "                                            indicador       2020  \\\n",
       "12           Porcentaje de viviendas con electricidad  99.001843   \n",
       "13  Porcentaje de viviendas particulares habitadas...  95.469330   \n",
       "14  Porcentaje de viviendas particulares habitadas...  98.070381   \n",
       "34  Porcentaje de viviendas particulares habitadas...  52.072835   \n",
       "37  Porcentaje de viviendas particulares habitadas...  37.559287   \n",
       "\n",
       "   unidad_medida  Index  \n",
       "12    Porcentaje     10  \n",
       "13    Porcentaje     10  \n",
       "14    Porcentaje     10  \n",
       "34    Porcentaje      6  \n",
       "37    Porcentaje      4  "
      ]
     },
     "execution_count": 19,
     "metadata": {},
     "output_type": "execute_result"
    }
   ],
   "source": [
    "# Add the Index column to the final data frame\n",
    "v_final['Index'] = index\n",
    "\n",
    "# Verify that the Index column was added \n",
    "v_final.head(5)"
   ]
  },
  {
   "cell_type": "code",
   "execution_count": 20,
   "metadata": {},
   "outputs": [
    {
     "data": {
      "text/html": [
       "<div>\n",
       "<style scoped>\n",
       "    .dataframe tbody tr th:only-of-type {\n",
       "        vertical-align: middle;\n",
       "    }\n",
       "\n",
       "    .dataframe tbody tr th {\n",
       "        vertical-align: top;\n",
       "    }\n",
       "\n",
       "    .dataframe thead th {\n",
       "        text-align: right;\n",
       "    }\n",
       "</style>\n",
       "<table border=\"1\" class=\"dataframe\">\n",
       "  <thead>\n",
       "    <tr style=\"text-align: right;\">\n",
       "      <th></th>\n",
       "      <th>Country</th>\n",
       "      <th>Index_Value</th>\n",
       "    </tr>\n",
       "  </thead>\n",
       "  <tbody>\n",
       "    <tr>\n",
       "      <th>0</th>\n",
       "      <td>Mexico</td>\n",
       "      <td>100</td>\n",
       "    </tr>\n",
       "  </tbody>\n",
       "</table>\n",
       "</div>"
      ],
      "text/plain": [
       "  Country  Index_Value\n",
       "0  Mexico          100"
      ]
     },
     "execution_count": 20,
     "metadata": {},
     "output_type": "execute_result"
    }
   ],
   "source": [
    "# In this section we calculate the value of the index created to measure the economic status of the country \n",
    "\n",
    "# Filter the data base to get the values for the whole country\n",
    "country = v_final[v_final['desc_entidad'] == 'Estados Unidos Mexicanos']\n",
    "\n",
    "# Calculate the index value\n",
    "country_index = country['Index'].sum()\n",
    "\n",
    "# Create a dictionary to convert it to Data Frame\n",
    "country_dic = {'Country' :['Mexico'], 'Index_Value' : [country_index]}\n",
    "\n",
    "# Convert to Data Frame\n",
    "country_df = pd.DataFrame(country_dic)\n",
    "\n",
    "# Show the result\n",
    "country_df\n"
   ]
  },
  {
   "cell_type": "code",
   "execution_count": 26,
   "metadata": {},
   "outputs": [
    {
     "data": {
      "text/html": [
       "<div>\n",
       "<style scoped>\n",
       "    .dataframe tbody tr th:only-of-type {\n",
       "        vertical-align: middle;\n",
       "    }\n",
       "\n",
       "    .dataframe tbody tr th {\n",
       "        vertical-align: top;\n",
       "    }\n",
       "\n",
       "    .dataframe thead th {\n",
       "        text-align: right;\n",
       "    }\n",
       "</style>\n",
       "<table border=\"1\" class=\"dataframe\">\n",
       "  <thead>\n",
       "    <tr style=\"text-align: right;\">\n",
       "      <th></th>\n",
       "      <th>State</th>\n",
       "      <th>Index_Value</th>\n",
       "    </tr>\n",
       "  </thead>\n",
       "  <tbody>\n",
       "    <tr>\n",
       "      <th>0</th>\n",
       "      <td>Aguascalientes</td>\n",
       "      <td>111</td>\n",
       "    </tr>\n",
       "    <tr>\n",
       "      <th>1</th>\n",
       "      <td>Baja California</td>\n",
       "      <td>105</td>\n",
       "    </tr>\n",
       "    <tr>\n",
       "      <th>2</th>\n",
       "      <td>Baja California Sur</td>\n",
       "      <td>108</td>\n",
       "    </tr>\n",
       "    <tr>\n",
       "      <th>3</th>\n",
       "      <td>Campeche</td>\n",
       "      <td>99</td>\n",
       "    </tr>\n",
       "    <tr>\n",
       "      <th>4</th>\n",
       "      <td>Coahuila de Zaragoza</td>\n",
       "      <td>107</td>\n",
       "    </tr>\n",
       "    <tr>\n",
       "      <th>5</th>\n",
       "      <td>Colima</td>\n",
       "      <td>107</td>\n",
       "    </tr>\n",
       "    <tr>\n",
       "      <th>6</th>\n",
       "      <td>Chiapas</td>\n",
       "      <td>81</td>\n",
       "    </tr>\n",
       "    <tr>\n",
       "      <th>7</th>\n",
       "      <td>Chihuahua</td>\n",
       "      <td>103</td>\n",
       "    </tr>\n",
       "    <tr>\n",
       "      <th>8</th>\n",
       "      <td>Ciudad de México</td>\n",
       "      <td>117</td>\n",
       "    </tr>\n",
       "    <tr>\n",
       "      <th>9</th>\n",
       "      <td>Durango</td>\n",
       "      <td>101</td>\n",
       "    </tr>\n",
       "    <tr>\n",
       "      <th>10</th>\n",
       "      <td>Guanajuato</td>\n",
       "      <td>105</td>\n",
       "    </tr>\n",
       "    <tr>\n",
       "      <th>11</th>\n",
       "      <td>Guerrero</td>\n",
       "      <td>85</td>\n",
       "    </tr>\n",
       "    <tr>\n",
       "      <th>12</th>\n",
       "      <td>Hidalgo</td>\n",
       "      <td>96</td>\n",
       "    </tr>\n",
       "    <tr>\n",
       "      <th>13</th>\n",
       "      <td>Jalisco</td>\n",
       "      <td>112</td>\n",
       "    </tr>\n",
       "    <tr>\n",
       "      <th>14</th>\n",
       "      <td>México</td>\n",
       "      <td>103</td>\n",
       "    </tr>\n",
       "    <tr>\n",
       "      <th>15</th>\n",
       "      <td>Michoacán de Ocampo</td>\n",
       "      <td>100</td>\n",
       "    </tr>\n",
       "    <tr>\n",
       "      <th>16</th>\n",
       "      <td>Morelos</td>\n",
       "      <td>102</td>\n",
       "    </tr>\n",
       "    <tr>\n",
       "      <th>17</th>\n",
       "      <td>Nayarit</td>\n",
       "      <td>100</td>\n",
       "    </tr>\n",
       "    <tr>\n",
       "      <th>18</th>\n",
       "      <td>Nuevo León</td>\n",
       "      <td>102</td>\n",
       "    </tr>\n",
       "    <tr>\n",
       "      <th>19</th>\n",
       "      <td>Oaxaca</td>\n",
       "      <td>80</td>\n",
       "    </tr>\n",
       "    <tr>\n",
       "      <th>20</th>\n",
       "      <td>Puebla</td>\n",
       "      <td>93</td>\n",
       "    </tr>\n",
       "    <tr>\n",
       "      <th>21</th>\n",
       "      <td>Querétaro</td>\n",
       "      <td>107</td>\n",
       "    </tr>\n",
       "    <tr>\n",
       "      <th>22</th>\n",
       "      <td>Quintana Roo</td>\n",
       "      <td>103</td>\n",
       "    </tr>\n",
       "    <tr>\n",
       "      <th>23</th>\n",
       "      <td>San Luis Potosí</td>\n",
       "      <td>102</td>\n",
       "    </tr>\n",
       "    <tr>\n",
       "      <th>24</th>\n",
       "      <td>Sinaloa</td>\n",
       "      <td>100</td>\n",
       "    </tr>\n",
       "    <tr>\n",
       "      <th>25</th>\n",
       "      <td>Sonora</td>\n",
       "      <td>102</td>\n",
       "    </tr>\n",
       "    <tr>\n",
       "      <th>26</th>\n",
       "      <td>Tabasco</td>\n",
       "      <td>89</td>\n",
       "    </tr>\n",
       "    <tr>\n",
       "      <th>27</th>\n",
       "      <td>Tamaulipas</td>\n",
       "      <td>98</td>\n",
       "    </tr>\n",
       "    <tr>\n",
       "      <th>28</th>\n",
       "      <td>Tlaxcala</td>\n",
       "      <td>92</td>\n",
       "    </tr>\n",
       "    <tr>\n",
       "      <th>29</th>\n",
       "      <td>Veracruz de Ignacio de la Llave</td>\n",
       "      <td>90</td>\n",
       "    </tr>\n",
       "    <tr>\n",
       "      <th>30</th>\n",
       "      <td>Yucatán</td>\n",
       "      <td>99</td>\n",
       "    </tr>\n",
       "    <tr>\n",
       "      <th>31</th>\n",
       "      <td>Zacatecas</td>\n",
       "      <td>105</td>\n",
       "    </tr>\n",
       "  </tbody>\n",
       "</table>\n",
       "</div>"
      ],
      "text/plain": [
       "                              State  Index_Value\n",
       "0                    Aguascalientes          111\n",
       "1                   Baja California          105\n",
       "2               Baja California Sur          108\n",
       "3                          Campeche           99\n",
       "4              Coahuila de Zaragoza          107\n",
       "5                            Colima          107\n",
       "6                           Chiapas           81\n",
       "7                         Chihuahua          103\n",
       "8                  Ciudad de México          117\n",
       "9                           Durango          101\n",
       "10                       Guanajuato          105\n",
       "11                         Guerrero           85\n",
       "12                          Hidalgo           96\n",
       "13                          Jalisco          112\n",
       "14                           México          103\n",
       "15              Michoacán de Ocampo          100\n",
       "16                          Morelos          102\n",
       "17                          Nayarit          100\n",
       "18                       Nuevo León          102\n",
       "19                           Oaxaca           80\n",
       "20                           Puebla           93\n",
       "21                        Querétaro          107\n",
       "22                     Quintana Roo          103\n",
       "23                  San Luis Potosí          102\n",
       "24                          Sinaloa          100\n",
       "25                           Sonora          102\n",
       "26                          Tabasco           89\n",
       "27                       Tamaulipas           98\n",
       "28                         Tlaxcala           92\n",
       "29  Veracruz de Ignacio de la Llave           90\n",
       "30                          Yucatán           99\n",
       "31                        Zacatecas          105"
      ]
     },
     "execution_count": 26,
     "metadata": {},
     "output_type": "execute_result"
    }
   ],
   "source": [
    "# In this section we calculate the value of the index created to measure the economic status for each state of the country\n",
    "\n",
    "# Create a list with the names of the states\n",
    "st = v_final['desc_entidad'].unique()\n",
    "state = st.tolist()\n",
    "state.remove('Estados Unidos Mexicanos')\n",
    "\n",
    "# Create a list where the index values will be saved\n",
    "st_index = []\n",
    "\n",
    "# Loop to calculate the index value for each state\n",
    "for s in state:\n",
    "    df = v_final[v_final['desc_entidad'] == s]\n",
    "    df_edo = df[df['desc_municipio'] == 'Estatal']\n",
    "    st_index.append(df_edo['Index'].sum())\n",
    "    \n",
    "# Create a dictionary to convert it to Data Frame\n",
    "state_dic = {'State' : state, 'Index_Value' : st_index}\n",
    "\n",
    "# Convert to Data Frame\n",
    "state_df = pd.DataFrame(state_dic)\n",
    "\n",
    "# Show the result\n",
    "state_df"
   ]
  },
  {
   "cell_type": "code",
   "execution_count": 28,
   "metadata": {},
   "outputs": [],
   "source": [
    "state_df.to_csv(\"../Output/PODERADQUISITIVOPORESTADO.csv\", index=False, header=True)"
   ]
  },
  {
   "cell_type": "code",
   "execution_count": 93,
   "metadata": {},
   "outputs": [
    {
     "data": {
      "text/html": [
       "<div>\n",
       "<style scoped>\n",
       "    .dataframe tbody tr th:only-of-type {\n",
       "        vertical-align: middle;\n",
       "    }\n",
       "\n",
       "    .dataframe tbody tr th {\n",
       "        vertical-align: top;\n",
       "    }\n",
       "\n",
       "    .dataframe thead th {\n",
       "        text-align: right;\n",
       "    }\n",
       "</style>\n",
       "<table border=\"1\" class=\"dataframe\">\n",
       "  <thead>\n",
       "    <tr style=\"text-align: right;\">\n",
       "      <th></th>\n",
       "      <th>State</th>\n",
       "      <th>Municipality</th>\n",
       "      <th>Index_Value</th>\n",
       "    </tr>\n",
       "  </thead>\n",
       "  <tbody>\n",
       "    <tr>\n",
       "      <th>0</th>\n",
       "      <td>Aguascalientes</td>\n",
       "      <td>Aguascalientes</td>\n",
       "      <td>113</td>\n",
       "    </tr>\n",
       "    <tr>\n",
       "      <th>1</th>\n",
       "      <td>Aguascalientes</td>\n",
       "      <td>Asientos</td>\n",
       "      <td>98</td>\n",
       "    </tr>\n",
       "    <tr>\n",
       "      <th>2</th>\n",
       "      <td>Aguascalientes</td>\n",
       "      <td>Calvillo</td>\n",
       "      <td>104</td>\n",
       "    </tr>\n",
       "    <tr>\n",
       "      <th>3</th>\n",
       "      <td>Aguascalientes</td>\n",
       "      <td>Cosío</td>\n",
       "      <td>98</td>\n",
       "    </tr>\n",
       "    <tr>\n",
       "      <th>4</th>\n",
       "      <td>Aguascalientes</td>\n",
       "      <td>Jesús María</td>\n",
       "      <td>112</td>\n",
       "    </tr>\n",
       "    <tr>\n",
       "      <th>...</th>\n",
       "      <td>...</td>\n",
       "      <td>...</td>\n",
       "      <td>...</td>\n",
       "    </tr>\n",
       "    <tr>\n",
       "      <th>2464</th>\n",
       "      <td>Zacatecas</td>\n",
       "      <td>Villa Hidalgo</td>\n",
       "      <td>92</td>\n",
       "    </tr>\n",
       "    <tr>\n",
       "      <th>2465</th>\n",
       "      <td>Zacatecas</td>\n",
       "      <td>Villanueva</td>\n",
       "      <td>105</td>\n",
       "    </tr>\n",
       "    <tr>\n",
       "      <th>2466</th>\n",
       "      <td>Zacatecas</td>\n",
       "      <td>Zacatecas</td>\n",
       "      <td>115</td>\n",
       "    </tr>\n",
       "    <tr>\n",
       "      <th>2467</th>\n",
       "      <td>Zacatecas</td>\n",
       "      <td>Trancoso</td>\n",
       "      <td>94</td>\n",
       "    </tr>\n",
       "    <tr>\n",
       "      <th>2468</th>\n",
       "      <td>Zacatecas</td>\n",
       "      <td>Santa María de la Paz</td>\n",
       "      <td>102</td>\n",
       "    </tr>\n",
       "  </tbody>\n",
       "</table>\n",
       "<p>2469 rows × 3 columns</p>\n",
       "</div>"
      ],
      "text/plain": [
       "               State           Municipality  Index_Value\n",
       "0     Aguascalientes         Aguascalientes          113\n",
       "1     Aguascalientes               Asientos           98\n",
       "2     Aguascalientes               Calvillo          104\n",
       "3     Aguascalientes                  Cosío           98\n",
       "4     Aguascalientes            Jesús María          112\n",
       "...              ...                    ...          ...\n",
       "2464       Zacatecas          Villa Hidalgo           92\n",
       "2465       Zacatecas             Villanueva          105\n",
       "2466       Zacatecas              Zacatecas          115\n",
       "2467       Zacatecas               Trancoso           94\n",
       "2468       Zacatecas  Santa María de la Paz          102\n",
       "\n",
       "[2469 rows x 3 columns]"
      ]
     },
     "execution_count": 93,
     "metadata": {},
     "output_type": "execute_result"
    }
   ],
   "source": [
    "# In this section we calculate the value of the index created to measure the economic status for each municipality\n",
    "# of the country\n",
    "\n",
    "# Create a list with the names of the states\n",
    "st = v_final['desc_entidad'].unique()\n",
    "state = st.tolist()\n",
    "state.remove('Estados Unidos Mexicanos')\n",
    "\n",
    "# Create a list where the index values will be saved\n",
    "mun_index = []\n",
    "\n",
    "# Create a list where the name of the state will be saved\n",
    "st_list = []\n",
    "\n",
    "# Create a list where the name of the municipality will be saved\n",
    "mun_list = []\n",
    "\n",
    "# Loop to calculate the index value for each municipality\n",
    "for s in state:\n",
    "    df = v_final[v_final['desc_entidad'] == s]\n",
    "    mun = df['desc_municipio'].unique()\n",
    "    mun = mun.tolist()\n",
    "    mun.remove('Estatal')\n",
    "    \n",
    "    for m in mun:\n",
    "        st_list.append(s)\n",
    "        df_mun = df[df['desc_municipio'] == m]\n",
    "        mun_index.append(df_mun['Index'].sum())\n",
    "        mun_list.append(m)\n",
    "    \n",
    "# Create a dictionary to convert it to Data Frame\n",
    "mun_dic = {'State' : st_list, 'Municipality' : mun_list, 'Index_Value' : mun_index}\n",
    "\n",
    "# Convert to Data Frame\n",
    "mun_df = pd.DataFrame(mun_dic)\n",
    "\n",
    "# Show the result\n",
    "mun_df\n"
   ]
  },
  {
   "cell_type": "code",
   "execution_count": null,
   "metadata": {},
   "outputs": [],
   "source": [
    "# Export file as a CSV, without the Pandas index, but with the header\n",
    "mun_df.to_csv(\"../Output/PODERADQUISITIVOPORESTADOMUNICIPIO.csv\", index=False, header=True)"
   ]
  }
 ],
 "metadata": {
  "kernelspec": {
   "display_name": "Python 3",
   "language": "python",
   "name": "python3"
  },
  "language_info": {
   "codemirror_mode": {
    "name": "ipython",
    "version": 3
   },
   "file_extension": ".py",
   "mimetype": "text/x-python",
   "name": "python",
   "nbconvert_exporter": "python",
   "pygments_lexer": "ipython3",
   "version": "3.8.3"
  }
 },
 "nbformat": 4,
 "nbformat_minor": 4
}
