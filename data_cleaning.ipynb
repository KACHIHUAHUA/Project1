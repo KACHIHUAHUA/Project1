{
 "cells": [
  {
   "cell_type": "code",
   "execution_count": 1,
   "metadata": {},
   "outputs": [
    {
     "name": "stderr",
     "output_type": "stream",
     "text": [
      "C:\\Users\\najez\\Anaconda3\\envs\\pythonData\\lib\\site-packages\\IPython\\core\\interactiveshell.py:3072: DtypeWarning: Columns (12,16) have mixed types.Specify dtype option on import or set low_memory=False.\n",
      "  interactivity=interactivity, compiler=compiler, result=result)\n"
     ]
    }
   ],
   "source": [
    "# Import dependencies needes\n",
    "import pandas as pd\n",
    "import numpy as np\n",
    "\n",
    "# File to Load \n",
    "file_path = \"Resources/vivienda.csv\"\n",
    "\n",
    "# Read Purchasing File and store into Pandas data frame\n",
    "vivienda = pd.read_csv(file_path, encoding='ISO-8859-1')"
   ]
  },
  {
   "cell_type": "code",
   "execution_count": 2,
   "metadata": {},
   "outputs": [
    {
     "data": {
      "text/plain": [
       "Index(['cve_entidad', 'desc_entidad', 'cve_municipio', 'desc_municipio',\n",
       "       'id_indicador', 'indicador', '1950', '1960', '1970', '1980', '1990',\n",
       "       '1995', '2000', '2005', '2010', '2014', '2015', '2020',\n",
       "       'unidad_medida'],\n",
       "      dtype='object')"
      ]
     },
     "execution_count": 2,
     "metadata": {},
     "output_type": "execute_result"
    }
   ],
   "source": [
    "#Get the name of the columns\n",
    "vivienda.columns"
   ]
  },
  {
   "cell_type": "code",
   "execution_count": 3,
   "metadata": {},
   "outputs": [],
   "source": [
    "v_columns = vivienda[['cve_entidad','desc_entidad', 'cve_municipio', 'desc_municipio',\n",
    "       'id_indicador', 'indicador','2020',\n",
    "       'unidad_medida' ]]"
   ]
  },
  {
   "cell_type": "code",
   "execution_count": 4,
   "metadata": {},
   "outputs": [
    {
     "data": {
      "text/plain": [
       "Disponibilidad de bienes: Automóvil o camioneta                               2502\n",
       "Disponibilidad de bienes: Bicicleta como medio de transporte                  2502\n",
       "Disponibilidad de bienes: Lavadora                                            2502\n",
       "Disponibilidad de bienes: Motocicleta o motoneta                              2502\n",
       "Disponibilidad de bienes: Refrigerador                                        2502\n",
       "                                                                              ... \n",
       "Viviendas que son casa independiente o local no construido para habitación      33\n",
       "Viviendas que son cuarto de azotea                                              33\n",
       "Viviendas que son departamento en edificio o vivienda en vecindad               33\n",
       "Viviendas que son refugio                                                       33\n",
       "Viviendas, de cada cien que cuentan con electricidad, agua y drenaje            33\n",
       "Name: indicador, Length: 127, dtype: int64"
      ]
     },
     "execution_count": 4,
     "metadata": {},
     "output_type": "execute_result"
    }
   ],
   "source": [
    "# Check the count of indicators \n",
    "i = v_columns['indicador'].value_counts().sort_index()\n",
    "i"
   ]
  },
  {
   "cell_type": "code",
   "execution_count": 5,
   "metadata": {},
   "outputs": [
    {
     "data": {
      "text/plain": [
       "Disponibilidad de bienes: Automóvil o camioneta                                                           2502\n",
       "Disponibilidad de bienes: Bicicleta como medio de transporte                                              2502\n",
       "Disponibilidad de bienes: Lavadora                                                                        2502\n",
       "Disponibilidad de bienes: Motocicleta o motoneta                                                          2502\n",
       "Disponibilidad de bienes: Refrigerador                                                                    2502\n",
       "Disponibilidad de servicios en la vivienda: Cisterna o aljibe                                             2502\n",
       "Disponibilidad de servicios en la vivienda: Tinaco                                                        2502\n",
       "Porcentaje de viviendas con agua entubada                                                                 2490\n",
       "Porcentaje de viviendas con agua entubada dentro de la vivienda                                           2502\n",
       "Porcentaje de viviendas con drenaje                                                                       2490\n",
       "Porcentaje de viviendas con electricidad                                                                  2502\n",
       "Porcentaje de viviendas con piso de tierra                                                                2502\n",
       "Porcentaje de viviendas donde separan en orgánico e inorgánico los residuos                               2490\n",
       "Porcentaje de viviendas donde todos sus focos son ahorradores                                             2490\n",
       "Porcentaje de viviendas en el ámbito geográfico de referencia respecto a la unidad geográfica superior    2490\n",
       "Porcentaje de viviendas particulares habitadas alquiladas                                                 2490\n",
       "Porcentaje de viviendas particulares habitadas con  techos precarios                                      2490\n",
       "Porcentaje de viviendas particulares habitadas con disponibilidad de drenaje                              2502\n",
       "Porcentaje de viviendas particulares habitadas con disponibilidad de excusado                             2502\n",
       "Porcentaje de viviendas particulares habitadas con paredes precarias                                      2490\n",
       "Porcentaje de viviendas particulares habitadas con tenencia no especificada                               2490\n",
       "Porcentaje de viviendas particulares habitadas de un familiar o prestada                                  2490\n",
       "Porcentaje de viviendas particulares habitadas en otra situación de tenencia                              2490\n",
       "Porcentaje de viviendas particulares habitadas propias                                                    2490\n",
       "Porcentaje de viviendas particulares habitadas que disponen de Internet                                   2502\n",
       "Porcentaje de viviendas particulares habitadas que disponen de computadora                                2502\n",
       "Porcentaje de viviendas particulares habitadas que disponen de pantalla plana                             2490\n",
       "Porcentaje de viviendas particulares habitadas que disponen de televisión de paga                         2502\n",
       "Porcentaje de viviendas particulares habitadas que disponen de teléfono celular                           2502\n",
       "Porcentaje de viviendas particulares habitadas que disponen de teléfono fijo                              2502\n",
       "Porcentaje de viviendas que disponen de calentador solar de agua                                          2490\n",
       "Porcentaje de viviendas que disponen de panel solar para tener electricidad                               2490\n",
       "Porcentaje de viviendas que disponen de sanitario                                                         2490\n",
       "Promedio de ocupantes en viviendas particulares habitadas                                                 2503\n",
       "Promedio de ocupantes por cuarto (Índice de hacinamiento)                                                 2502\n",
       "Total de viviendas particulares habitadas                                                                 2503\n",
       "Viviendas particulares habitadas                                                                          2490\n",
       "Viviendas particulares habitadas que disponen de agua de la red pública en el ámbito de la vivienda       2490\n",
       "Viviendas particulares habitadas que disponen de computadora                                              2490\n",
       "Viviendas particulares habitadas que disponen de drenaje                                                  2490\n",
       "Viviendas particulares habitadas que disponen de energía eléctrica                                        2490\n",
       "Viviendas particulares habitadas que disponen de excusado o sanitario                                     2490\n",
       "Viviendas particulares habitadas que disponen de lavadora                                                 2490\n",
       "Name: indicador, dtype: int64"
      ]
     },
     "execution_count": 5,
     "metadata": {},
     "output_type": "execute_result"
    }
   ],
   "source": [
    "# Since we saw that there are some indicators that we don't need because of it's value count, we drop them\n",
    "v_columns2=v_columns[v_columns['indicador'].isin(v_columns['indicador'].value_counts()[v_columns['indicador'].value_counts()>33].index)]\n",
    "\n",
    "# We verify that the indicators were successfully deleted\n",
    "v_columns2['indicador'].value_counts().sort_index()"
   ]
  },
  {
   "cell_type": "code",
   "execution_count": 6,
   "metadata": {},
   "outputs": [],
   "source": [
    "# In this section of code we realized that we have to check the missing values of each 'indicador', so we can drop\n",
    "# the ones that are not useful because they have excess of NaN's\n",
    "\n",
    "# Get the list of the values left\n",
    "i_values = v_columns2['indicador'].unique()\n",
    "\n",
    "# Initialize list that will save the sum of the missing values\n",
    "cond=[]\n",
    "\n",
    "# Initialize list for the boolean array\n",
    "boolean = []\n",
    "\n",
    "# Loop to identify the sum of the missing values according to each 'indicador'\n",
    "for val in i_values:\n",
    "    df = v_columns2[v_columns2['indicador'] == val]\n",
    "    cond.append(df['2020'].isna().sum())\n",
    "\n",
    "# Loop to create a vector with boolean values for the 'indicadores' that have more than one missing value\n",
    "for x in cond:\n",
    "    if x>1:\n",
    "        boolean.append(True)\n",
    "    else:\n",
    "        boolean.append(False)\n",
    "        \n",
    "# Get the name of the 'indicadores' that have more than one missing value\n",
    "mv_i = i_values[boolean]"
   ]
  },
  {
   "cell_type": "code",
   "execution_count": 7,
   "metadata": {},
   "outputs": [
    {
     "data": {
      "text/plain": [
       "20"
      ]
     },
     "execution_count": 7,
     "metadata": {},
     "output_type": "execute_result"
    }
   ],
   "source": [
    "# Initialize our new data frame\n",
    "v_clean = v_columns2\n",
    "\n",
    "# Loop to eliminate the 'indicadores' that have too many missing values\n",
    "for x in mv_i:\n",
    "    v_clean = v_clean[v_clean['indicador'] != x]\n",
    "    \n",
    "# Check the lenght of the 'indicadores' that are left and that do not have NaN's\n",
    "len(v_clean['indicador'].unique())"
   ]
  },
  {
   "cell_type": "code",
   "execution_count": 8,
   "metadata": {},
   "outputs": [
    {
     "data": {
      "text/plain": [
       "43"
      ]
     },
     "execution_count": 8,
     "metadata": {},
     "output_type": "execute_result"
    }
   ],
   "source": [
    "# Check the lenght of the 'indicadores' before the Nan's were dropped\n",
    "len(v_columns2['indicador'].unique())"
   ]
  },
  {
   "cell_type": "code",
   "execution_count": 9,
   "metadata": {},
   "outputs": [
    {
     "data": {
      "text/plain": [
       "23"
      ]
     },
     "execution_count": 9,
     "metadata": {},
     "output_type": "execute_result"
    }
   ],
   "source": [
    "# Check the lenght of 'indicadores' that we wanted to drop \n",
    "len(mv_i)"
   ]
  },
  {
   "cell_type": "markdown",
   "metadata": {},
   "source": [
    "Since the sum of the  lenght of the 'indicadores' after we cleaned (20) and the lenght of the 'indicadores' that we wanted to drop (23) is 43 we are certain that we dropped the right amount of 'indicadores'"
   ]
  },
  {
   "cell_type": "code",
   "execution_count": 10,
   "metadata": {},
   "outputs": [
    {
     "data": {
      "text/plain": [
       "cve_entidad       0\n",
       "desc_entidad      0\n",
       "cve_municipio     0\n",
       "desc_municipio    0\n",
       "id_indicador      0\n",
       "indicador         0\n",
       "2020              2\n",
       "unidad_medida     0\n",
       "dtype: int64"
      ]
     },
     "execution_count": 10,
     "metadata": {},
     "output_type": "execute_result"
    }
   ],
   "source": [
    "# We have to check the remaining NaN values \n",
    "v_clean.isnull().sum()"
   ]
  },
  {
   "cell_type": "code",
   "execution_count": 11,
   "metadata": {},
   "outputs": [
    {
     "data": {
      "text/plain": [
       "9690            Total de viviendas particulares habitadas\n",
       "9692    Promedio de ocupantes en viviendas particulare...\n",
       "Name: indicador, dtype: object"
      ]
     },
     "execution_count": 11,
     "metadata": {},
     "output_type": "execute_result"
    }
   ],
   "source": [
    "# Check the position of the missing values \n",
    "mis_val = v_clean['2020'].isnull()\n",
    "\n",
    "# Get the name of the two 'indicadores' that have a missing value  \n",
    "indicador_miss = v_clean['indicador']\n",
    "indicador_miss[mis_val]"
   ]
  },
  {
   "cell_type": "code",
   "execution_count": 12,
   "metadata": {},
   "outputs": [
    {
     "data": {
      "text/html": [
       "<div>\n",
       "<style scoped>\n",
       "    .dataframe tbody tr th:only-of-type {\n",
       "        vertical-align: middle;\n",
       "    }\n",
       "\n",
       "    .dataframe tbody tr th {\n",
       "        vertical-align: top;\n",
       "    }\n",
       "\n",
       "    .dataframe thead th {\n",
       "        text-align: right;\n",
       "    }\n",
       "</style>\n",
       "<table border=\"1\" class=\"dataframe\">\n",
       "  <thead>\n",
       "    <tr style=\"text-align: right;\">\n",
       "      <th></th>\n",
       "      <th>Estado</th>\n",
       "      <th>Municipio</th>\n",
       "    </tr>\n",
       "  </thead>\n",
       "  <tbody>\n",
       "    <tr>\n",
       "      <th>9690</th>\n",
       "      <td>Chiapas</td>\n",
       "      <td>Otros municipios</td>\n",
       "    </tr>\n",
       "    <tr>\n",
       "      <th>9692</th>\n",
       "      <td>Chiapas</td>\n",
       "      <td>Otros municipios</td>\n",
       "    </tr>\n",
       "  </tbody>\n",
       "</table>\n",
       "</div>"
      ],
      "text/plain": [
       "       Estado         Municipio\n",
       "9690  Chiapas  Otros municipios\n",
       "9692  Chiapas  Otros municipios"
      ]
     },
     "execution_count": 12,
     "metadata": {},
     "output_type": "execute_result"
    }
   ],
   "source": [
    "# Get the 'estado' and 'municipio' of the missing values to see if they are relevant\n",
    "indicador_edo = v_clean['desc_entidad']\n",
    "indicador_mpo = v_clean['desc_municipio']\n",
    "\n",
    "\n",
    "pd.DataFrame({'Estado' : indicador_edo[mis_val], 'Municipio' : indicador_mpo[mis_val]})"
   ]
  },
  {
   "cell_type": "code",
   "execution_count": 14,
   "metadata": {},
   "outputs": [
    {
     "data": {
      "text/plain": [
       "cve_entidad       0\n",
       "desc_entidad      0\n",
       "cve_municipio     0\n",
       "desc_municipio    0\n",
       "id_indicador      0\n",
       "indicador         0\n",
       "2020              0\n",
       "unidad_medida     0\n",
       "dtype: int64"
      ]
     },
     "execution_count": 14,
     "metadata": {},
     "output_type": "execute_result"
    }
   ],
   "source": [
    "# Since the data was not relevant we are going to transform NaN to 0 and it will not affect our analysis\n",
    "v_clean['2020'] = v_clean['2020'].fillna(0)\n",
    "\n",
    "# Check the count of missing values\n",
    "v_clean.isnull().sum()"
   ]
  },
  {
   "cell_type": "code",
   "execution_count": 15,
   "metadata": {},
   "outputs": [
    {
     "data": {
      "text/plain": [
       "array(['Total de viviendas particulares habitadas',\n",
       "       'Promedio de ocupantes en viviendas particulares habitadas',\n",
       "       'Porcentaje de viviendas con piso de tierra',\n",
       "       'Porcentaje de viviendas con electricidad',\n",
       "       'Porcentaje de viviendas particulares habitadas con disponibilidad de drenaje',\n",
       "       'Porcentaje de viviendas particulares habitadas con disponibilidad de excusado',\n",
       "       'Porcentaje de viviendas particulares habitadas que disponen de Internet',\n",
       "       'Porcentaje de viviendas particulares habitadas que disponen de computadora',\n",
       "       'Porcentaje de viviendas particulares habitadas que disponen de teléfono fijo',\n",
       "       'Porcentaje de viviendas particulares habitadas que disponen de teléfono celular',\n",
       "       'Porcentaje de viviendas particulares habitadas que disponen de televisión de paga',\n",
       "       'Promedio de ocupantes por cuarto (Índice de hacinamiento)',\n",
       "       'Porcentaje de viviendas con agua entubada dentro de la vivienda',\n",
       "       'Disponibilidad de servicios en la vivienda: Tinaco',\n",
       "       'Disponibilidad de servicios en la vivienda: Cisterna o aljibe',\n",
       "       'Disponibilidad de bienes: Automóvil o camioneta',\n",
       "       'Disponibilidad de bienes: Motocicleta o motoneta',\n",
       "       'Disponibilidad de bienes: Bicicleta como medio de transporte',\n",
       "       'Disponibilidad de bienes: Refrigerador',\n",
       "       'Disponibilidad de bienes: Lavadora'], dtype=object)"
      ]
     },
     "execution_count": 15,
     "metadata": {},
     "output_type": "execute_result"
    }
   ],
   "source": [
    "# Check the 'indicadores' left\n",
    "v_clean['indicador'].unique()"
   ]
  },
  {
   "cell_type": "code",
   "execution_count": 16,
   "metadata": {},
   "outputs": [],
   "source": [
    "# List of the 'indicadores' that are not useful\n",
    "not_useful = ['Total de viviendas particulares habitadas',\n",
    " 'Promedio de ocupantes en viviendas particulares habitadas',\n",
    " 'Porcentaje de viviendas con piso de tierra',\n",
    " 'Promedio de ocupantes por cuarto (Índice de hacinamiento)', \n",
    " 'Disponibilidad de bienes: Bicicleta como medio de transporte']"
   ]
  },
  {
   "cell_type": "code",
   "execution_count": 17,
   "metadata": {},
   "outputs": [],
   "source": [
    "# List of the 'indicadores' that we will use for our analysis\n",
    "useful = ['Porcentaje de viviendas con electricidad',\n",
    " 'Porcentaje de viviendas particulares habitadas con disponibilidad de drenaje',\n",
    " 'Porcentaje de viviendas particulares habitadas con disponibilidad de excusado',\n",
    " 'Porcentaje de viviendas particulares habitadas que disponen de Internet',\n",
    " 'Porcentaje de viviendas particulares habitadas que disponen de computadora',\n",
    " 'Porcentaje de viviendas particulares habitadas que disponen de teléfono fijo',\n",
    " 'Porcentaje de viviendas particulares habitadas que disponen de teléfono celular',\n",
    " 'Porcentaje de viviendas particulares habitadas que disponen de televisión de paga',\n",
    " 'Porcentaje de viviendas con agua entubada dentro de la vivienda',\n",
    " 'Disponibilidad de servicios en la vivienda: Tinaco',\n",
    " 'Disponibilidad de servicios en la vivienda: Cisterna o aljibe',\n",
    " 'Disponibilidad de bienes: Automóvil o camioneta',\n",
    " 'Disponibilidad de bienes: Motocicleta o motoneta',\n",
    " 'Disponibilidad de bienes: Refrigerador',\n",
    " 'Disponibilidad de bienes: Lavadora']"
   ]
  },
  {
   "cell_type": "code",
   "execution_count": 20,
   "metadata": {},
   "outputs": [
    {
     "data": {
      "text/plain": [
       "15"
      ]
     },
     "execution_count": 20,
     "metadata": {},
     "output_type": "execute_result"
    }
   ],
   "source": [
    "# Initialize our new data frame\n",
    "v_final = v_clean\n",
    "\n",
    "# Loop to eliminate the 'indicadores' that we don't need\n",
    "for u in not_useful:\n",
    "    v_final = v_final[v_final['indicador'] != u]\n",
    "    \n",
    "# Check the lenght of the 'indicadores' that are left (should be the same lenght as the list of useful 'indicadores')\n",
    "len(v_final['indicador'].unique())"
   ]
  },
  {
   "cell_type": "code",
   "execution_count": 33,
   "metadata": {},
   "outputs": [
    {
     "data": {
      "text/plain": [
       "0"
      ]
     },
     "execution_count": 33,
     "metadata": {},
     "output_type": "execute_result"
    }
   ],
   "source": [
    "# Create an empty list were the values of the index will be added\n",
    "index = []\n",
    "\n",
    "# Select the column that contain the data that will be needed to calculate the index values\n",
    "indicadores = v_final['2020']\n",
    "\n",
    "# Loop that assings the values \n",
    "for ind in indicadores:\n",
    "    if ind>=0 and ind<10:\n",
    "        index.append(1)\n",
    "    elif ind>=10 and ind<20:\n",
    "        index.append(2)\n",
    "    elif ind>=20 and ind<30:\n",
    "        index.append(3)\n",
    "    elif ind>=30 and ind<40:\n",
    "        index.append(4)\n",
    "    elif ind>=40 and ind<50:\n",
    "        index.append(5)\n",
    "    elif ind>=50 and ind<60:\n",
    "        index.append(6)\n",
    "    elif ind>=60 and ind<70:\n",
    "        index.append(7)\n",
    "    elif ind>=70 and ind<80:\n",
    "        index.append(8)\n",
    "    elif ind>=80 and ind<90:\n",
    "        index.append(9)\n",
    "    else:\n",
    "        index.append(10)\n",
    "       \n",
    "# Verify that the index list is the same length as our final data frame  \n",
    "len(index)-len(v_final)"
   ]
  },
  {
   "cell_type": "code",
   "execution_count": 31,
   "metadata": {},
   "outputs": [
    {
     "data": {
      "text/html": [
       "<div>\n",
       "<style scoped>\n",
       "    .dataframe tbody tr th:only-of-type {\n",
       "        vertical-align: middle;\n",
       "    }\n",
       "\n",
       "    .dataframe tbody tr th {\n",
       "        vertical-align: top;\n",
       "    }\n",
       "\n",
       "    .dataframe thead th {\n",
       "        text-align: right;\n",
       "    }\n",
       "</style>\n",
       "<table border=\"1\" class=\"dataframe\">\n",
       "  <thead>\n",
       "    <tr style=\"text-align: right;\">\n",
       "      <th></th>\n",
       "      <th>cve_entidad</th>\n",
       "      <th>desc_entidad</th>\n",
       "      <th>cve_municipio</th>\n",
       "      <th>desc_municipio</th>\n",
       "      <th>id_indicador</th>\n",
       "      <th>indicador</th>\n",
       "      <th>2020</th>\n",
       "      <th>unidad_medida</th>\n",
       "      <th>Index</th>\n",
       "    </tr>\n",
       "  </thead>\n",
       "  <tbody>\n",
       "    <tr>\n",
       "      <th>12</th>\n",
       "      <td>0</td>\n",
       "      <td>Estados Unidos Mexicanos</td>\n",
       "      <td>0</td>\n",
       "      <td>Estados Unidos Mexicanos</td>\n",
       "      <td>3114006001</td>\n",
       "      <td>Porcentaje de viviendas con electricidad</td>\n",
       "      <td>99.001843</td>\n",
       "      <td>Porcentaje</td>\n",
       "      <td>10</td>\n",
       "    </tr>\n",
       "    <tr>\n",
       "      <th>13</th>\n",
       "      <td>0</td>\n",
       "      <td>Estados Unidos Mexicanos</td>\n",
       "      <td>0</td>\n",
       "      <td>Estados Unidos Mexicanos</td>\n",
       "      <td>6200031290</td>\n",
       "      <td>Porcentaje de viviendas particulares habitadas...</td>\n",
       "      <td>95.469330</td>\n",
       "      <td>Porcentaje</td>\n",
       "      <td>10</td>\n",
       "    </tr>\n",
       "    <tr>\n",
       "      <th>14</th>\n",
       "      <td>0</td>\n",
       "      <td>Estados Unidos Mexicanos</td>\n",
       "      <td>0</td>\n",
       "      <td>Estados Unidos Mexicanos</td>\n",
       "      <td>6200031291</td>\n",
       "      <td>Porcentaje de viviendas particulares habitadas...</td>\n",
       "      <td>98.070381</td>\n",
       "      <td>Porcentaje</td>\n",
       "      <td>10</td>\n",
       "    </tr>\n",
       "    <tr>\n",
       "      <th>34</th>\n",
       "      <td>0</td>\n",
       "      <td>Estados Unidos Mexicanos</td>\n",
       "      <td>0</td>\n",
       "      <td>Estados Unidos Mexicanos</td>\n",
       "      <td>6207019042</td>\n",
       "      <td>Porcentaje de viviendas particulares habitadas...</td>\n",
       "      <td>52.072835</td>\n",
       "      <td>Porcentaje</td>\n",
       "      <td>6</td>\n",
       "    </tr>\n",
       "    <tr>\n",
       "      <th>37</th>\n",
       "      <td>0</td>\n",
       "      <td>Estados Unidos Mexicanos</td>\n",
       "      <td>0</td>\n",
       "      <td>Estados Unidos Mexicanos</td>\n",
       "      <td>6207019046</td>\n",
       "      <td>Porcentaje de viviendas particulares habitadas...</td>\n",
       "      <td>37.559287</td>\n",
       "      <td>Porcentaje</td>\n",
       "      <td>4</td>\n",
       "    </tr>\n",
       "  </tbody>\n",
       "</table>\n",
       "</div>"
      ],
      "text/plain": [
       "    cve_entidad              desc_entidad  cve_municipio  \\\n",
       "12            0  Estados Unidos Mexicanos              0   \n",
       "13            0  Estados Unidos Mexicanos              0   \n",
       "14            0  Estados Unidos Mexicanos              0   \n",
       "34            0  Estados Unidos Mexicanos              0   \n",
       "37            0  Estados Unidos Mexicanos              0   \n",
       "\n",
       "              desc_municipio  id_indicador  \\\n",
       "12  Estados Unidos Mexicanos    3114006001   \n",
       "13  Estados Unidos Mexicanos    6200031290   \n",
       "14  Estados Unidos Mexicanos    6200031291   \n",
       "34  Estados Unidos Mexicanos    6207019042   \n",
       "37  Estados Unidos Mexicanos    6207019046   \n",
       "\n",
       "                                            indicador       2020  \\\n",
       "12           Porcentaje de viviendas con electricidad  99.001843   \n",
       "13  Porcentaje de viviendas particulares habitadas...  95.469330   \n",
       "14  Porcentaje de viviendas particulares habitadas...  98.070381   \n",
       "34  Porcentaje de viviendas particulares habitadas...  52.072835   \n",
       "37  Porcentaje de viviendas particulares habitadas...  37.559287   \n",
       "\n",
       "   unidad_medida  Index  \n",
       "12    Porcentaje     10  \n",
       "13    Porcentaje     10  \n",
       "14    Porcentaje     10  \n",
       "34    Porcentaje      6  \n",
       "37    Porcentaje      4  "
      ]
     },
     "execution_count": 31,
     "metadata": {},
     "output_type": "execute_result"
    }
   ],
   "source": [
    "# Add the Index column to the final data frame\n",
    "v_final['Index'] = index\n",
    "\n",
    "# Verify that the Index column was added \n",
    "v_final.head()"
   ]
  },
  {
   "cell_type": "code",
   "execution_count": 38,
   "metadata": {},
   "outputs": [
    {
     "data": {
      "text/html": [
       "<div>\n",
       "<style scoped>\n",
       "    .dataframe tbody tr th:only-of-type {\n",
       "        vertical-align: middle;\n",
       "    }\n",
       "\n",
       "    .dataframe tbody tr th {\n",
       "        vertical-align: top;\n",
       "    }\n",
       "\n",
       "    .dataframe thead th {\n",
       "        text-align: right;\n",
       "    }\n",
       "</style>\n",
       "<table border=\"1\" class=\"dataframe\">\n",
       "  <thead>\n",
       "    <tr style=\"text-align: right;\">\n",
       "      <th></th>\n",
       "      <th>cve_entidad</th>\n",
       "      <th>desc_entidad</th>\n",
       "      <th>cve_municipio</th>\n",
       "      <th>desc_municipio</th>\n",
       "      <th>id_indicador</th>\n",
       "      <th>indicador</th>\n",
       "      <th>2020</th>\n",
       "      <th>unidad_medida</th>\n",
       "      <th>Index</th>\n",
       "    </tr>\n",
       "  </thead>\n",
       "  <tbody>\n",
       "    <tr>\n",
       "      <th>12</th>\n",
       "      <td>0</td>\n",
       "      <td>Estados Unidos Mexicanos</td>\n",
       "      <td>0</td>\n",
       "      <td>Estados Unidos Mexicanos</td>\n",
       "      <td>3114006001</td>\n",
       "      <td>Porcentaje de viviendas con electricidad</td>\n",
       "      <td>99.001843</td>\n",
       "      <td>Porcentaje</td>\n",
       "      <td>10</td>\n",
       "    </tr>\n",
       "    <tr>\n",
       "      <th>13</th>\n",
       "      <td>0</td>\n",
       "      <td>Estados Unidos Mexicanos</td>\n",
       "      <td>0</td>\n",
       "      <td>Estados Unidos Mexicanos</td>\n",
       "      <td>6200031290</td>\n",
       "      <td>Porcentaje de viviendas particulares habitadas...</td>\n",
       "      <td>95.469330</td>\n",
       "      <td>Porcentaje</td>\n",
       "      <td>10</td>\n",
       "    </tr>\n",
       "    <tr>\n",
       "      <th>14</th>\n",
       "      <td>0</td>\n",
       "      <td>Estados Unidos Mexicanos</td>\n",
       "      <td>0</td>\n",
       "      <td>Estados Unidos Mexicanos</td>\n",
       "      <td>6200031291</td>\n",
       "      <td>Porcentaje de viviendas particulares habitadas...</td>\n",
       "      <td>98.070381</td>\n",
       "      <td>Porcentaje</td>\n",
       "      <td>10</td>\n",
       "    </tr>\n",
       "    <tr>\n",
       "      <th>34</th>\n",
       "      <td>0</td>\n",
       "      <td>Estados Unidos Mexicanos</td>\n",
       "      <td>0</td>\n",
       "      <td>Estados Unidos Mexicanos</td>\n",
       "      <td>6207019042</td>\n",
       "      <td>Porcentaje de viviendas particulares habitadas...</td>\n",
       "      <td>52.072835</td>\n",
       "      <td>Porcentaje</td>\n",
       "      <td>6</td>\n",
       "    </tr>\n",
       "    <tr>\n",
       "      <th>37</th>\n",
       "      <td>0</td>\n",
       "      <td>Estados Unidos Mexicanos</td>\n",
       "      <td>0</td>\n",
       "      <td>Estados Unidos Mexicanos</td>\n",
       "      <td>6207019046</td>\n",
       "      <td>Porcentaje de viviendas particulares habitadas...</td>\n",
       "      <td>37.559287</td>\n",
       "      <td>Porcentaje</td>\n",
       "      <td>4</td>\n",
       "    </tr>\n",
       "    <tr>\n",
       "      <th>40</th>\n",
       "      <td>0</td>\n",
       "      <td>Estados Unidos Mexicanos</td>\n",
       "      <td>0</td>\n",
       "      <td>Estados Unidos Mexicanos</td>\n",
       "      <td>6207019050</td>\n",
       "      <td>Porcentaje de viviendas particulares habitadas...</td>\n",
       "      <td>37.502030</td>\n",
       "      <td>Porcentaje</td>\n",
       "      <td>4</td>\n",
       "    </tr>\n",
       "    <tr>\n",
       "      <th>42</th>\n",
       "      <td>0</td>\n",
       "      <td>Estados Unidos Mexicanos</td>\n",
       "      <td>0</td>\n",
       "      <td>Estados Unidos Mexicanos</td>\n",
       "      <td>6207019055</td>\n",
       "      <td>Porcentaje de viviendas particulares habitadas...</td>\n",
       "      <td>87.538721</td>\n",
       "      <td>Porcentaje</td>\n",
       "      <td>9</td>\n",
       "    </tr>\n",
       "    <tr>\n",
       "      <th>43</th>\n",
       "      <td>0</td>\n",
       "      <td>Estados Unidos Mexicanos</td>\n",
       "      <td>0</td>\n",
       "      <td>Estados Unidos Mexicanos</td>\n",
       "      <td>6207019057</td>\n",
       "      <td>Porcentaje de viviendas particulares habitadas...</td>\n",
       "      <td>43.266919</td>\n",
       "      <td>Porcentaje</td>\n",
       "      <td>5</td>\n",
       "    </tr>\n",
       "    <tr>\n",
       "      <th>119</th>\n",
       "      <td>0</td>\n",
       "      <td>Estados Unidos Mexicanos</td>\n",
       "      <td>0</td>\n",
       "      <td>Estados Unidos Mexicanos</td>\n",
       "      <td>6207068394</td>\n",
       "      <td>Porcentaje de viviendas con agua entubada dent...</td>\n",
       "      <td>77.588935</td>\n",
       "      <td>Porcentaje</td>\n",
       "      <td>8</td>\n",
       "    </tr>\n",
       "    <tr>\n",
       "      <th>120</th>\n",
       "      <td>0</td>\n",
       "      <td>Estados Unidos Mexicanos</td>\n",
       "      <td>0</td>\n",
       "      <td>Estados Unidos Mexicanos</td>\n",
       "      <td>6207129631</td>\n",
       "      <td>Disponibilidad de servicios en la vivienda: Ti...</td>\n",
       "      <td>64.368058</td>\n",
       "      <td>Porcentaje</td>\n",
       "      <td>7</td>\n",
       "    </tr>\n",
       "    <tr>\n",
       "      <th>121</th>\n",
       "      <td>0</td>\n",
       "      <td>Estados Unidos Mexicanos</td>\n",
       "      <td>0</td>\n",
       "      <td>Estados Unidos Mexicanos</td>\n",
       "      <td>6207129632</td>\n",
       "      <td>Disponibilidad de servicios en la vivienda: Ci...</td>\n",
       "      <td>27.456413</td>\n",
       "      <td>Porcentaje</td>\n",
       "      <td>3</td>\n",
       "    </tr>\n",
       "    <tr>\n",
       "      <th>122</th>\n",
       "      <td>0</td>\n",
       "      <td>Estados Unidos Mexicanos</td>\n",
       "      <td>0</td>\n",
       "      <td>Estados Unidos Mexicanos</td>\n",
       "      <td>6207129635</td>\n",
       "      <td>Disponibilidad de bienes: Automóvil o camioneta</td>\n",
       "      <td>46.479608</td>\n",
       "      <td>Porcentaje</td>\n",
       "      <td>5</td>\n",
       "    </tr>\n",
       "    <tr>\n",
       "      <th>123</th>\n",
       "      <td>0</td>\n",
       "      <td>Estados Unidos Mexicanos</td>\n",
       "      <td>0</td>\n",
       "      <td>Estados Unidos Mexicanos</td>\n",
       "      <td>6207129636</td>\n",
       "      <td>Disponibilidad de bienes: Motocicleta o motoneta</td>\n",
       "      <td>12.024554</td>\n",
       "      <td>Porcentaje</td>\n",
       "      <td>2</td>\n",
       "    </tr>\n",
       "    <tr>\n",
       "      <th>125</th>\n",
       "      <td>0</td>\n",
       "      <td>Estados Unidos Mexicanos</td>\n",
       "      <td>0</td>\n",
       "      <td>Estados Unidos Mexicanos</td>\n",
       "      <td>6207129812</td>\n",
       "      <td>Disponibilidad de bienes: Refrigerador</td>\n",
       "      <td>87.639304</td>\n",
       "      <td>Porcentaje</td>\n",
       "      <td>9</td>\n",
       "    </tr>\n",
       "    <tr>\n",
       "      <th>126</th>\n",
       "      <td>0</td>\n",
       "      <td>Estados Unidos Mexicanos</td>\n",
       "      <td>0</td>\n",
       "      <td>Estados Unidos Mexicanos</td>\n",
       "      <td>6207129813</td>\n",
       "      <td>Disponibilidad de bienes: Lavadora</td>\n",
       "      <td>72.846429</td>\n",
       "      <td>Porcentaje</td>\n",
       "      <td>8</td>\n",
       "    </tr>\n",
       "  </tbody>\n",
       "</table>\n",
       "</div>"
      ],
      "text/plain": [
       "     cve_entidad              desc_entidad  cve_municipio  \\\n",
       "12             0  Estados Unidos Mexicanos              0   \n",
       "13             0  Estados Unidos Mexicanos              0   \n",
       "14             0  Estados Unidos Mexicanos              0   \n",
       "34             0  Estados Unidos Mexicanos              0   \n",
       "37             0  Estados Unidos Mexicanos              0   \n",
       "40             0  Estados Unidos Mexicanos              0   \n",
       "42             0  Estados Unidos Mexicanos              0   \n",
       "43             0  Estados Unidos Mexicanos              0   \n",
       "119            0  Estados Unidos Mexicanos              0   \n",
       "120            0  Estados Unidos Mexicanos              0   \n",
       "121            0  Estados Unidos Mexicanos              0   \n",
       "122            0  Estados Unidos Mexicanos              0   \n",
       "123            0  Estados Unidos Mexicanos              0   \n",
       "125            0  Estados Unidos Mexicanos              0   \n",
       "126            0  Estados Unidos Mexicanos              0   \n",
       "\n",
       "               desc_municipio  id_indicador  \\\n",
       "12   Estados Unidos Mexicanos    3114006001   \n",
       "13   Estados Unidos Mexicanos    6200031290   \n",
       "14   Estados Unidos Mexicanos    6200031291   \n",
       "34   Estados Unidos Mexicanos    6207019042   \n",
       "37   Estados Unidos Mexicanos    6207019046   \n",
       "40   Estados Unidos Mexicanos    6207019050   \n",
       "42   Estados Unidos Mexicanos    6207019055   \n",
       "43   Estados Unidos Mexicanos    6207019057   \n",
       "119  Estados Unidos Mexicanos    6207068394   \n",
       "120  Estados Unidos Mexicanos    6207129631   \n",
       "121  Estados Unidos Mexicanos    6207129632   \n",
       "122  Estados Unidos Mexicanos    6207129635   \n",
       "123  Estados Unidos Mexicanos    6207129636   \n",
       "125  Estados Unidos Mexicanos    6207129812   \n",
       "126  Estados Unidos Mexicanos    6207129813   \n",
       "\n",
       "                                             indicador       2020  \\\n",
       "12            Porcentaje de viviendas con electricidad  99.001843   \n",
       "13   Porcentaje de viviendas particulares habitadas...  95.469330   \n",
       "14   Porcentaje de viviendas particulares habitadas...  98.070381   \n",
       "34   Porcentaje de viviendas particulares habitadas...  52.072835   \n",
       "37   Porcentaje de viviendas particulares habitadas...  37.559287   \n",
       "40   Porcentaje de viviendas particulares habitadas...  37.502030   \n",
       "42   Porcentaje de viviendas particulares habitadas...  87.538721   \n",
       "43   Porcentaje de viviendas particulares habitadas...  43.266919   \n",
       "119  Porcentaje de viviendas con agua entubada dent...  77.588935   \n",
       "120  Disponibilidad de servicios en la vivienda: Ti...  64.368058   \n",
       "121  Disponibilidad de servicios en la vivienda: Ci...  27.456413   \n",
       "122    Disponibilidad de bienes: Automóvil o camioneta  46.479608   \n",
       "123   Disponibilidad de bienes: Motocicleta o motoneta  12.024554   \n",
       "125             Disponibilidad de bienes: Refrigerador  87.639304   \n",
       "126                 Disponibilidad de bienes: Lavadora  72.846429   \n",
       "\n",
       "    unidad_medida  Index  \n",
       "12     Porcentaje     10  \n",
       "13     Porcentaje     10  \n",
       "14     Porcentaje     10  \n",
       "34     Porcentaje      6  \n",
       "37     Porcentaje      4  \n",
       "40     Porcentaje      4  \n",
       "42     Porcentaje      9  \n",
       "43     Porcentaje      5  \n",
       "119    Porcentaje      8  \n",
       "120    Porcentaje      7  \n",
       "121    Porcentaje      3  \n",
       "122    Porcentaje      5  \n",
       "123    Porcentaje      2  \n",
       "125    Porcentaje      9  \n",
       "126    Porcentaje      8  "
      ]
     },
     "execution_count": 38,
     "metadata": {},
     "output_type": "execute_result"
    }
   ],
   "source": [
    "v_final[v_final['desc_entidad'] == 'Estados Unidos Mexicanos']"
   ]
  },
  {
   "cell_type": "code",
   "execution_count": 35,
   "metadata": {},
   "outputs": [
    {
     "data": {
      "text/plain": [
       "array([  0,   1,   2,   3,   4,   5,   6,   7,   8,   9,  10,  11,  12,\n",
       "        13,  14,  15,  16,  17,  18,  19,  20,  21,  22,  23,  24,  25,\n",
       "        26,  27,  28,  29,  30,  31,  32,  33,  34,  35,  36,  37,  38,\n",
       "        39,  40,  41,  42,  43,  44,  45,  46,  47,  48,  49,  50,  51,\n",
       "        52,  53,  54,  55,  56,  57,  58,  59,  60,  61,  62,  63,  64,\n",
       "        65,  66,  67,  68,  69,  70,  71,  72,  73,  74,  75,  76,  77,\n",
       "        78,  79,  80,  81,  82,  83,  84,  85,  86,  87,  88,  89,  90,\n",
       "        91,  92,  93,  94,  96,  97,  98,  99, 100, 101, 102, 103, 104,\n",
       "       105, 106, 107, 108, 109, 110, 111, 112, 113, 114, 115, 116, 117,\n",
       "       118, 119, 120, 121, 122, 123, 124, 125,  95, 126, 127, 128, 129,\n",
       "       130, 131, 132, 133, 134, 135, 136, 137, 138, 139, 140, 141, 142,\n",
       "       143, 144, 145, 146, 147, 148, 149, 150, 151, 152, 153, 154, 155,\n",
       "       156, 157, 158, 159, 160, 161, 162, 163, 164, 165, 166, 167, 168,\n",
       "       169, 170, 171, 172, 173, 174, 175, 176, 177, 178, 179, 180, 181,\n",
       "       182, 183, 184, 185, 186, 187, 188, 189, 190, 191, 192, 193, 194,\n",
       "       195, 196, 197, 198, 199, 200, 201, 202, 203, 204, 205, 206, 207,\n",
       "       208, 209, 210, 211, 212, 213, 214, 215, 216, 217, 218, 219, 220,\n",
       "       221, 222, 223, 224, 225, 226, 227, 228, 229, 230, 231, 232, 233,\n",
       "       234, 235, 236, 237, 238, 239, 240, 241, 242, 243, 244, 245, 246,\n",
       "       247, 248, 249, 250, 251, 252, 253, 254, 255, 256, 257, 258, 259,\n",
       "       260, 261, 262, 263, 264, 265, 266, 267, 268, 269, 270, 271, 272,\n",
       "       273, 274, 275, 276, 277, 278, 279, 280, 281, 282, 283, 284, 285,\n",
       "       286, 287, 288, 289, 290, 291, 292, 293, 294, 295, 296, 297, 298,\n",
       "       299, 300, 301, 302, 303, 304, 305, 306, 307, 308, 309, 310, 311,\n",
       "       312, 313, 314, 315, 316, 317, 318, 319, 320, 321, 322, 323, 324,\n",
       "       325, 326, 327, 328, 329, 330, 331, 332, 333, 334, 335, 336, 337,\n",
       "       338, 339, 340, 341, 342, 343, 344, 345, 346, 347, 348, 349, 350,\n",
       "       351, 352, 353, 354, 355, 356, 357, 358, 359, 360, 361, 362, 363,\n",
       "       364, 365, 366, 367, 368, 369, 370, 371, 372, 373, 374, 375, 376,\n",
       "       377, 378, 379, 380, 381, 382, 383, 384, 385, 386, 387, 388, 389,\n",
       "       390, 391, 392, 393, 394, 395, 396, 397, 398, 399, 400, 401, 402,\n",
       "       403, 404, 405, 406, 407, 408, 409, 410, 411, 412, 413, 414, 415,\n",
       "       416, 417, 418, 419, 420, 421, 422, 423, 424, 425, 426, 427, 428,\n",
       "       429, 430, 431, 432, 433, 434, 435, 436, 437, 438, 439, 440, 441,\n",
       "       442, 443, 444, 445, 446, 447, 448, 449, 450, 451, 452, 453, 454,\n",
       "       455, 456, 457, 458, 459, 460, 461, 462, 463, 464, 465, 466, 467,\n",
       "       468, 469, 470, 471, 472, 473, 474, 475, 476, 477, 478, 479, 480,\n",
       "       481, 482, 483, 484, 485, 486, 487, 488, 489, 490, 491, 492, 493,\n",
       "       494, 495, 496, 497, 498, 499, 500, 501, 502, 503, 504, 505, 506,\n",
       "       507, 508, 509, 510, 511, 512, 513, 514, 515, 516, 517, 518, 519,\n",
       "       520, 521, 522, 523, 524, 525, 526, 527, 528, 529, 530, 531, 532,\n",
       "       533, 534, 535, 536, 537, 538, 539, 540, 541, 542, 543, 544, 545,\n",
       "       546, 547, 548, 549, 550, 551, 552, 553, 554, 555, 556, 557, 558,\n",
       "       559, 560, 561, 562, 563, 564, 565, 566, 567, 568, 569, 570],\n",
       "      dtype=int64)"
      ]
     },
     "execution_count": 35,
     "metadata": {},
     "output_type": "execute_result"
    }
   ],
   "source": [
    "v_final['cve_municipio'].unique()"
   ]
  },
  {
   "cell_type": "code",
   "execution_count": null,
   "metadata": {},
   "outputs": [],
   "source": []
  }
 ],
 "metadata": {
  "kernelspec": {
   "display_name": "Python [conda env:pythonData]",
   "language": "python",
   "name": "conda-env-pythonData-py"
  },
  "language_info": {
   "codemirror_mode": {
    "name": "ipython",
    "version": 3
   },
   "file_extension": ".py",
   "mimetype": "text/x-python",
   "name": "python",
   "nbconvert_exporter": "python",
   "pygments_lexer": "ipython3",
   "version": "3.6.10"
  }
 },
 "nbformat": 4,
 "nbformat_minor": 4
}
