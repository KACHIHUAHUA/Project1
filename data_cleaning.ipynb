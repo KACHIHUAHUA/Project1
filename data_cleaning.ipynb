{
 "cells": [
  {
   "cell_type": "code",
   "execution_count": 24,
   "metadata": {},
   "outputs": [
    {
     "name": "stderr",
     "output_type": "stream",
     "text": [
      "C:\\Users\\najez\\Anaconda3\\envs\\pythonData\\lib\\site-packages\\IPython\\core\\interactiveshell.py:3072: DtypeWarning: Columns (12,16) have mixed types.Specify dtype option on import or set low_memory=False.\n",
      "  interactivity=interactivity, compiler=compiler, result=result)\n"
     ]
    }
   ],
   "source": [
    "# Import dependencies needes\n",
    "import pandas as pd\n",
    "import numpy as np\n",
    "\n",
    "# File to Load \n",
    "file_path = \"Resources/vivienda.csv\"\n",
    "\n",
    "# Read Purchasing File and store into Pandas data frame\n",
    "vivienda = pd.read_csv(file_path, encoding='latin')"
   ]
  },
  {
   "cell_type": "code",
   "execution_count": 25,
   "metadata": {},
   "outputs": [
    {
     "data": {
      "text/plain": [
       "Index(['cve_entidad', 'desc_entidad', 'cve_municipio', 'desc_municipio',\n",
       "       'id_indicador', 'indicador', '1950', '1960', '1970', '1980', '1990',\n",
       "       '1995', '2000', '2005', '2010', '2014', '2015', '2020',\n",
       "       'unidad_medida'],\n",
       "      dtype='object')"
      ]
     },
     "execution_count": 25,
     "metadata": {},
     "output_type": "execute_result"
    }
   ],
   "source": [
    "#Get the name of the columns\n",
    "vivienda.columns"
   ]
  },
  {
   "cell_type": "code",
   "execution_count": 26,
   "metadata": {},
   "outputs": [],
   "source": [
    "v_columns = vivienda[['cve_entidad','desc_entidad', 'cve_municipio', 'desc_municipio',\n",
    "       'id_indicador', 'indicador','2020',\n",
    "       'unidad_medida' ]]"
   ]
  },
  {
   "cell_type": "code",
   "execution_count": 27,
   "metadata": {},
   "outputs": [
    {
     "data": {
      "text/plain": [
       "Disponibilidad de bienes: Automóvil o camioneta                               2502\n",
       "Disponibilidad de bienes: Bicicleta como medio de transporte                  2502\n",
       "Disponibilidad de bienes: Lavadora                                            2502\n",
       "Disponibilidad de bienes: Motocicleta o motoneta                              2502\n",
       "Disponibilidad de bienes: Refrigerador                                        2502\n",
       "                                                                              ... \n",
       "Viviendas que son casa independiente o local no construido para habitación      33\n",
       "Viviendas que son cuarto de azotea                                              33\n",
       "Viviendas que son departamento en edificio o vivienda en vecindad               33\n",
       "Viviendas que son refugio                                                       33\n",
       "Viviendas, de cada cien que cuentan con electricidad, agua y drenaje            33\n",
       "Name: indicador, Length: 127, dtype: int64"
      ]
     },
     "execution_count": 27,
     "metadata": {},
     "output_type": "execute_result"
    }
   ],
   "source": [
    "# Check the count of indicators \n",
    "i = v_columns['indicador'].value_counts().sort_index()\n",
    "i"
   ]
  },
  {
   "cell_type": "code",
   "execution_count": 28,
   "metadata": {},
   "outputs": [
    {
     "data": {
      "text/plain": [
       "Disponibilidad de bienes: Automóvil o camioneta                                                           2502\n",
       "Disponibilidad de bienes: Bicicleta como medio de transporte                                              2502\n",
       "Disponibilidad de bienes: Lavadora                                                                        2502\n",
       "Disponibilidad de bienes: Motocicleta o motoneta                                                          2502\n",
       "Disponibilidad de bienes: Refrigerador                                                                    2502\n",
       "Disponibilidad de servicios en la vivienda: Cisterna o aljibe                                             2502\n",
       "Disponibilidad de servicios en la vivienda: Tinaco                                                        2502\n",
       "Porcentaje de viviendas con agua entubada                                                                 2490\n",
       "Porcentaje de viviendas con agua entubada dentro de la vivienda                                           2502\n",
       "Porcentaje de viviendas con drenaje                                                                       2490\n",
       "Porcentaje de viviendas con electricidad                                                                  2502\n",
       "Porcentaje de viviendas con piso de tierra                                                                2502\n",
       "Porcentaje de viviendas donde separan en orgánico e inorgánico los residuos                               2490\n",
       "Porcentaje de viviendas donde todos sus focos son ahorradores                                             2490\n",
       "Porcentaje de viviendas en el ámbito geográfico de referencia respecto a la unidad geográfica superior    2490\n",
       "Porcentaje de viviendas particulares habitadas alquiladas                                                 2490\n",
       "Porcentaje de viviendas particulares habitadas con  techos precarios                                      2490\n",
       "Porcentaje de viviendas particulares habitadas con disponibilidad de drenaje                              2502\n",
       "Porcentaje de viviendas particulares habitadas con disponibilidad de excusado                             2502\n",
       "Porcentaje de viviendas particulares habitadas con paredes precarias                                      2490\n",
       "Porcentaje de viviendas particulares habitadas con tenencia no especificada                               2490\n",
       "Porcentaje de viviendas particulares habitadas de un familiar o prestada                                  2490\n",
       "Porcentaje de viviendas particulares habitadas en otra situación de tenencia                              2490\n",
       "Porcentaje de viviendas particulares habitadas propias                                                    2490\n",
       "Porcentaje de viviendas particulares habitadas que disponen de Internet                                   2502\n",
       "Porcentaje de viviendas particulares habitadas que disponen de computadora                                2502\n",
       "Porcentaje de viviendas particulares habitadas que disponen de pantalla plana                             2490\n",
       "Porcentaje de viviendas particulares habitadas que disponen de televisión de paga                         2502\n",
       "Porcentaje de viviendas particulares habitadas que disponen de teléfono celular                           2502\n",
       "Porcentaje de viviendas particulares habitadas que disponen de teléfono fijo                              2502\n",
       "Porcentaje de viviendas que disponen de calentador solar de agua                                          2490\n",
       "Porcentaje de viviendas que disponen de panel solar para tener electricidad                               2490\n",
       "Porcentaje de viviendas que disponen de sanitario                                                         2490\n",
       "Promedio de ocupantes en viviendas particulares habitadas                                                 2503\n",
       "Promedio de ocupantes por cuarto (Índice de hacinamiento)                                                 2502\n",
       "Total de viviendas particulares habitadas                                                                 2503\n",
       "Viviendas particulares habitadas                                                                          2490\n",
       "Viviendas particulares habitadas que disponen de agua de la red pública en el ámbito de la vivienda       2490\n",
       "Viviendas particulares habitadas que disponen de computadora                                              2490\n",
       "Viviendas particulares habitadas que disponen de drenaje                                                  2490\n",
       "Viviendas particulares habitadas que disponen de energía eléctrica                                        2490\n",
       "Viviendas particulares habitadas que disponen de excusado o sanitario                                     2490\n",
       "Viviendas particulares habitadas que disponen de lavadora                                                 2490\n",
       "Name: indicador, dtype: int64"
      ]
     },
     "execution_count": 28,
     "metadata": {},
     "output_type": "execute_result"
    }
   ],
   "source": [
    "# Since we saw that there are some indicators that we don't need because of it's value count, we drop them\n",
    "v_columns2=v_columns[v_columns['indicador'].isin(v_columns['indicador'].value_counts()[v_columns['indicador'].value_counts()>33].index)]\n",
    "\n",
    "# We verify that the indicators were successfully deleted\n",
    "v_columns2['indicador'].value_counts().sort_index()"
   ]
  },
  {
   "cell_type": "code",
   "execution_count": 29,
   "metadata": {},
   "outputs": [],
   "source": [
    "i_values = v_columns2['indicador'].unique()\n",
    "cond=[]\n",
    "boolean = []\n",
    "for val in i_values:\n",
    "    df = v_columns2[v_columns2['indicador'] == val]\n",
    "    cond.append(df['2020'].isna().sum())\n",
    "\n",
    "for x in cond:\n",
    "    if x>1:\n",
    "        boolean.append(True)\n",
    "    else:\n",
    "        boolean.append(False)\n",
    "        \n",
    "mv_i = i_values[boolean]"
   ]
  },
  {
   "cell_type": "code",
   "execution_count": 30,
   "metadata": {},
   "outputs": [
    {
     "data": {
      "text/plain": [
       "20"
      ]
     },
     "execution_count": 30,
     "metadata": {},
     "output_type": "execute_result"
    }
   ],
   "source": [
    "v_clean = v_columns2\n",
    "for x in mv_i:\n",
    "    v_clean = v_clean[v_clean['indicador'] != x]\n",
    "len(v_clean['indicador'].unique())"
   ]
  },
  {
   "cell_type": "code",
   "execution_count": 31,
   "metadata": {},
   "outputs": [
    {
     "data": {
      "text/plain": [
       "43"
      ]
     },
     "execution_count": 31,
     "metadata": {},
     "output_type": "execute_result"
    }
   ],
   "source": [
    "len(v_columns2['indicador'].unique())"
   ]
  },
  {
   "cell_type": "code",
   "execution_count": 32,
   "metadata": {},
   "outputs": [
    {
     "data": {
      "text/plain": [
       "23"
      ]
     },
     "execution_count": 32,
     "metadata": {},
     "output_type": "execute_result"
    }
   ],
   "source": [
    "len(mv_i)"
   ]
  },
  {
   "cell_type": "code",
   "execution_count": 33,
   "metadata": {},
   "outputs": [
    {
     "data": {
      "text/plain": [
       "20"
      ]
     },
     "execution_count": 33,
     "metadata": {},
     "output_type": "execute_result"
    }
   ],
   "source": [
    "len(v_clean['indicador'].unique())"
   ]
  },
  {
   "cell_type": "code",
   "execution_count": 34,
   "metadata": {},
   "outputs": [
    {
     "data": {
      "text/plain": [
       "50042"
      ]
     },
     "execution_count": 34,
     "metadata": {},
     "output_type": "execute_result"
    }
   ],
   "source": [
    "len(v_clean)"
   ]
  },
  {
   "cell_type": "code",
   "execution_count": 36,
   "metadata": {},
   "outputs": [
    {
     "ename": "SyntaxError",
     "evalue": "invalid syntax (<ipython-input-36-58a906af2c66>, line 1)",
     "output_type": "error",
     "traceback": [
      "\u001b[1;36m  File \u001b[1;32m\"<ipython-input-36-58a906af2c66>\"\u001b[1;36m, line \u001b[1;32m1\u001b[0m\n\u001b[1;33m    v_clean[].isna().sum()\u001b[0m\n\u001b[1;37m            ^\u001b[0m\n\u001b[1;31mSyntaxError\u001b[0m\u001b[1;31m:\u001b[0m invalid syntax\n"
     ]
    }
   ],
   "source": [
    "v_clean['2020'].isna().sum()"
   ]
  },
  {
   "cell_type": "code",
   "execution_count": 37,
   "metadata": {},
   "outputs": [
    {
     "data": {
      "text/plain": [
       "cve_entidad       0\n",
       "desc_entidad      0\n",
       "cve_municipio     0\n",
       "desc_municipio    0\n",
       "id_indicador      0\n",
       "indicador         0\n",
       "2020              2\n",
       "unidad_medida     0\n",
       "dtype: int64"
      ]
     },
     "execution_count": 37,
     "metadata": {},
     "output_type": "execute_result"
    }
   ],
   "source": [
    "v_clean.isnull().sum()"
   ]
  },
  {
   "cell_type": "code",
   "execution_count": null,
   "metadata": {},
   "outputs": [],
   "source": []
  }
 ],
 "metadata": {
  "kernelspec": {
   "display_name": "Python [conda env:pythonData]",
   "language": "python",
   "name": "conda-env-pythonData-py"
  },
  "language_info": {
   "codemirror_mode": {
    "name": "ipython",
    "version": 3
   },
   "file_extension": ".py",
   "mimetype": "text/x-python",
   "name": "python",
   "nbconvert_exporter": "python",
   "pygments_lexer": "ipython3",
   "version": "3.6.10"
  }
 },
 "nbformat": 4,
 "nbformat_minor": 4
}
