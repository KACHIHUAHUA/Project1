{
 "cells": [
  {
   "cell_type": "code",
   "execution_count": 3,
   "metadata": {},
   "outputs": [],
   "source": [
    "# Import dependencies needes\n",
    "import pandas as pd\n",
    "import numpy as np\n",
    "\n",
    "# File to Load \n",
    "file_path = \"Resources/vivienda.csv\"\n",
    "\n",
    "# Read Purchasing File and store into Pandas data frame\n",
    "vivienda = pd.read_csv(file_path, encoding='ISO-8859-1')"
   ]
  },
  {
   "cell_type": "code",
   "execution_count": 4,
   "metadata": {},
   "outputs": [
    {
     "data": {
      "text/plain": [
       "Index(['cve_entidad', 'desc_entidad', 'cve_municipio', 'desc_municipio',\n",
       "       'id_indicador', 'indicador', '1950', '1960', '1970', '1980', '1990',\n",
       "       '1995', '2000', '2005', '2010', '2014', '2015', '2020',\n",
       "       'unidad_medida'],\n",
       "      dtype='object')"
      ]
     },
     "execution_count": 4,
     "metadata": {},
     "output_type": "execute_result"
    }
   ],
   "source": [
    "#Get the name of the columns\n",
    "vivienda.columns"
   ]
  },
  {
   "cell_type": "code",
   "execution_count": 5,
   "metadata": {},
   "outputs": [],
   "source": [
    "v_columns = vivienda[['cve_entidad','desc_entidad', 'cve_municipio', 'desc_municipio',\n",
    "       'id_indicador', 'indicador','2020',\n",
    "       'unidad_medida' ]]"
   ]
  },
  {
   "cell_type": "code",
   "execution_count": 6,
   "metadata": {},
   "outputs": [
    {
     "data": {
      "text/plain": [
       "Disponibilidad de bienes: Automóvil o camioneta                               2502\n",
       "Disponibilidad de bienes: Bicicleta como medio de transporte                  2502\n",
       "Disponibilidad de bienes: Lavadora                                            2502\n",
       "Disponibilidad de bienes: Motocicleta o motoneta                              2502\n",
       "Disponibilidad de bienes: Refrigerador                                        2502\n",
       "                                                                              ... \n",
       "Viviendas que son casa independiente o local no construido para habitación      33\n",
       "Viviendas que son cuarto de azotea                                              33\n",
       "Viviendas que son departamento en edificio o vivienda en vecindad               33\n",
       "Viviendas que son refugio                                                       33\n",
       "Viviendas, de cada cien que cuentan con electricidad, agua y drenaje            33\n",
       "Name: indicador, Length: 127, dtype: int64"
      ]
     },
     "execution_count": 6,
     "metadata": {},
     "output_type": "execute_result"
    }
   ],
   "source": [
    "# Check the count of indicators \n",
    "i = v_columns['indicador'].value_counts().sort_index()\n",
    "i"
   ]
  },
  {
   "cell_type": "code",
   "execution_count": 7,
   "metadata": {},
   "outputs": [
    {
     "data": {
      "text/plain": [
       "Disponibilidad de bienes: Automóvil o camioneta                                                           2502\n",
       "Disponibilidad de bienes: Bicicleta como medio de transporte                                              2502\n",
       "Disponibilidad de bienes: Lavadora                                                                        2502\n",
       "Disponibilidad de bienes: Motocicleta o motoneta                                                          2502\n",
       "Disponibilidad de bienes: Refrigerador                                                                    2502\n",
       "Disponibilidad de servicios en la vivienda: Cisterna o aljibe                                             2502\n",
       "Disponibilidad de servicios en la vivienda: Tinaco                                                        2502\n",
       "Porcentaje de viviendas con agua entubada                                                                 2490\n",
       "Porcentaje de viviendas con agua entubada dentro de la vivienda                                           2502\n",
       "Porcentaje de viviendas con drenaje                                                                       2490\n",
       "Porcentaje de viviendas con electricidad                                                                  2502\n",
       "Porcentaje de viviendas con piso de tierra                                                                2502\n",
       "Porcentaje de viviendas donde separan en orgánico e inorgánico los residuos                               2490\n",
       "Porcentaje de viviendas donde todos sus focos son ahorradores                                             2490\n",
       "Porcentaje de viviendas en el ámbito geográfico de referencia respecto a la unidad geográfica superior    2490\n",
       "Porcentaje de viviendas particulares habitadas alquiladas                                                 2490\n",
       "Porcentaje de viviendas particulares habitadas con  techos precarios                                      2490\n",
       "Porcentaje de viviendas particulares habitadas con disponibilidad de drenaje                              2502\n",
       "Porcentaje de viviendas particulares habitadas con disponibilidad de excusado                             2502\n",
       "Porcentaje de viviendas particulares habitadas con paredes precarias                                      2490\n",
       "Porcentaje de viviendas particulares habitadas con tenencia no especificada                               2490\n",
       "Porcentaje de viviendas particulares habitadas de un familiar o prestada                                  2490\n",
       "Porcentaje de viviendas particulares habitadas en otra situación de tenencia                              2490\n",
       "Porcentaje de viviendas particulares habitadas propias                                                    2490\n",
       "Porcentaje de viviendas particulares habitadas que disponen de Internet                                   2502\n",
       "Porcentaje de viviendas particulares habitadas que disponen de computadora                                2502\n",
       "Porcentaje de viviendas particulares habitadas que disponen de pantalla plana                             2490\n",
       "Porcentaje de viviendas particulares habitadas que disponen de televisión de paga                         2502\n",
       "Porcentaje de viviendas particulares habitadas que disponen de teléfono celular                           2502\n",
       "Porcentaje de viviendas particulares habitadas que disponen de teléfono fijo                              2502\n",
       "Porcentaje de viviendas que disponen de calentador solar de agua                                          2490\n",
       "Porcentaje de viviendas que disponen de panel solar para tener electricidad                               2490\n",
       "Porcentaje de viviendas que disponen de sanitario                                                         2490\n",
       "Promedio de ocupantes en viviendas particulares habitadas                                                 2503\n",
       "Promedio de ocupantes por cuarto (Índice de hacinamiento)                                                 2502\n",
       "Total de viviendas particulares habitadas                                                                 2503\n",
       "Viviendas particulares habitadas                                                                          2490\n",
       "Viviendas particulares habitadas que disponen de agua de la red pública en el ámbito de la vivienda       2490\n",
       "Viviendas particulares habitadas que disponen de computadora                                              2490\n",
       "Viviendas particulares habitadas que disponen de drenaje                                                  2490\n",
       "Viviendas particulares habitadas que disponen de energía eléctrica                                        2490\n",
       "Viviendas particulares habitadas que disponen de excusado o sanitario                                     2490\n",
       "Viviendas particulares habitadas que disponen de lavadora                                                 2490\n",
       "Name: indicador, dtype: int64"
      ]
     },
     "execution_count": 7,
     "metadata": {},
     "output_type": "execute_result"
    }
   ],
   "source": [
    "# Since we saw that there are some indicators that we don't need because of it's value count, we drop them\n",
    "v_columns2=v_columns[v_columns['indicador'].isin(v_columns['indicador'].value_counts()[v_columns['indicador'].value_counts()>33].index)]\n",
    "\n",
    "# We verify that the indicators were successfully deleted\n",
    "v_columns2['indicador'].value_counts().sort_index()"
   ]
  },
  {
   "cell_type": "code",
   "execution_count": 8,
   "metadata": {},
   "outputs": [],
   "source": [
    "# In this section of code we realized that we have to check the missing values of each 'indicador', so we can drop\n",
    "# the ones that are not useful because they have excess of NaN's\n",
    "\n",
    "# Get the list of the values left\n",
    "i_values = v_columns2['indicador'].unique()\n",
    "\n",
    "# Initialize list that will save the sum of the missing values\n",
    "cond=[]\n",
    "\n",
    "# Initialize list for the boolean array\n",
    "boolean = []\n",
    "\n",
    "# Loop to identify the sum of the missing values according to each 'indicador'\n",
    "for val in i_values:\n",
    "    df = v_columns2[v_columns2['indicador'] == val]\n",
    "    cond.append(df['2020'].isna().sum())\n",
    "\n",
    "# Loop to create a vector with boolean values for the 'indicadores' that have more than one missing value\n",
    "for x in cond:\n",
    "    if x>1:\n",
    "        boolean.append(True)\n",
    "    else:\n",
    "        boolean.append(False)\n",
    "        \n",
    "# Get the name of the 'indicadores' that have more than one missing value\n",
    "mv_i = i_values[boolean]"
   ]
  },
  {
   "cell_type": "code",
   "execution_count": 16,
   "metadata": {},
   "outputs": [
    {
     "data": {
      "text/plain": [
       "20"
      ]
     },
     "execution_count": 16,
     "metadata": {},
     "output_type": "execute_result"
    }
   ],
   "source": [
    "# Initialize our new data frame\n",
    "v_clean = v_columns2\n",
    "\n",
    "# Loop to eliminate the 'indicadores' that have too many missing values\n",
    "for x in mv_i:\n",
    "    v_clean = v_clean[v_clean['indicador'] != x]\n",
    "    \n",
    "# Check the lenght of the 'indicadores' that are left and that do not have NaN's\n",
    "len(v_clean['indicador'].unique())"
   ]
  },
  {
   "cell_type": "code",
   "execution_count": 10,
   "metadata": {},
   "outputs": [
    {
     "data": {
      "text/plain": [
       "43"
      ]
     },
     "execution_count": 10,
     "metadata": {},
     "output_type": "execute_result"
    }
   ],
   "source": [
    "# Check the lenght of the 'indicadores' before the Nan's were dropped\n",
    "len(v_columns2['indicador'].unique())"
   ]
  },
  {
   "cell_type": "code",
   "execution_count": 11,
   "metadata": {},
   "outputs": [
    {
     "data": {
      "text/plain": [
       "23"
      ]
     },
     "execution_count": 11,
     "metadata": {},
     "output_type": "execute_result"
    }
   ],
   "source": [
    "# Check the lenght of 'indicadores' that we wanted to drop \n",
    "len(mv_i)"
   ]
  },
  {
   "cell_type": "markdown",
   "metadata": {},
   "source": [
    "Since the sum of the  lenght of the 'indicadores' after we cleaned (20) and the lenght of the 'indicadores' that we wanted to drop (23) is 43 we are certain that we dropped the right amount of 'indicadores'"
   ]
  },
  {
   "cell_type": "code",
   "execution_count": 18,
   "metadata": {},
   "outputs": [
    {
     "data": {
      "text/plain": [
       "cve_entidad       0\n",
       "desc_entidad      0\n",
       "cve_municipio     0\n",
       "desc_municipio    0\n",
       "id_indicador      0\n",
       "indicador         0\n",
       "2020              2\n",
       "unidad_medida     0\n",
       "dtype: int64"
      ]
     },
     "execution_count": 18,
     "metadata": {},
     "output_type": "execute_result"
    }
   ],
   "source": [
    "# We have to check the remaining NaN values \n",
    "v_clean.isnull().sum()"
   ]
  },
  {
   "cell_type": "code",
   "execution_count": 32,
   "metadata": {},
   "outputs": [
    {
     "data": {
      "text/plain": [
       "9690            Total de viviendas particulares habitadas\n",
       "9692    Promedio de ocupantes en viviendas particulare...\n",
       "Name: indicador, dtype: object"
      ]
     },
     "execution_count": 32,
     "metadata": {},
     "output_type": "execute_result"
    }
   ],
   "source": [
    "# Check the position of the missing values \n",
    "mis_val = v_clean['2020'].isnull()\n",
    "\n",
    "# Get the name of the two 'indicadores' that have a missing value  \n",
    "indicador_miss = v_clean['indicador']\n",
    "indicador_miss[mis_val]"
   ]
  },
  {
   "cell_type": "code",
   "execution_count": 33,
   "metadata": {},
   "outputs": [
    {
     "data": {
      "text/html": [
       "<div>\n",
       "<style scoped>\n",
       "    .dataframe tbody tr th:only-of-type {\n",
       "        vertical-align: middle;\n",
       "    }\n",
       "\n",
       "    .dataframe tbody tr th {\n",
       "        vertical-align: top;\n",
       "    }\n",
       "\n",
       "    .dataframe thead th {\n",
       "        text-align: right;\n",
       "    }\n",
       "</style>\n",
       "<table border=\"1\" class=\"dataframe\">\n",
       "  <thead>\n",
       "    <tr style=\"text-align: right;\">\n",
       "      <th></th>\n",
       "      <th>Estado</th>\n",
       "      <th>Municipio</th>\n",
       "    </tr>\n",
       "  </thead>\n",
       "  <tbody>\n",
       "    <tr>\n",
       "      <th>9690</th>\n",
       "      <td>Chiapas</td>\n",
       "      <td>Otros municipios</td>\n",
       "    </tr>\n",
       "    <tr>\n",
       "      <th>9692</th>\n",
       "      <td>Chiapas</td>\n",
       "      <td>Otros municipios</td>\n",
       "    </tr>\n",
       "  </tbody>\n",
       "</table>\n",
       "</div>"
      ],
      "text/plain": [
       "       Estado         Municipio\n",
       "9690  Chiapas  Otros municipios\n",
       "9692  Chiapas  Otros municipios"
      ]
     },
     "execution_count": 33,
     "metadata": {},
     "output_type": "execute_result"
    }
   ],
   "source": [
    "# Get the 'estado' and 'municipio' of the missing values to see if they are relevant\n",
    "indicador_edo = v_clean['desc_entidad']\n",
    "indicador_mpo = v_clean['desc_municipio']\n",
    "\n",
    "\n",
    "pd.DataFrame({'Estado' : indicador_edo[mis_val], 'Municipio' : indicador_mpo[mis_val]})"
   ]
  },
  {
   "cell_type": "code",
   "execution_count": 34,
   "metadata": {},
   "outputs": [
    {
     "data": {
      "text/plain": [
       "cve_entidad       0\n",
       "desc_entidad      0\n",
       "cve_municipio     0\n",
       "desc_municipio    0\n",
       "id_indicador      0\n",
       "indicador         0\n",
       "2020              0\n",
       "unidad_medida     0\n",
       "dtype: int64"
      ]
     },
     "execution_count": 34,
     "metadata": {},
     "output_type": "execute_result"
    }
   ],
   "source": [
    "# Since the data was not relevant we are going to transform NaN to 0 and it will not affect our analysis\n",
    "v_clean['2020'] = v_clean['2020'].fillna(0)\n",
    "\n",
    "# Check the count of missing values\n",
    "v_clean.isnull().sum()"
   ]
  },
  {
   "cell_type": "code",
   "execution_count": null,
   "metadata": {},
   "outputs": [],
   "source": []
  }
 ],
 "metadata": {
  "kernelspec": {
   "display_name": "Python [conda env:pythonData]",
   "language": "python",
   "name": "conda-env-pythonData-py"
  },
  "language_info": {
   "codemirror_mode": {
    "name": "ipython",
    "version": 3
   },
   "file_extension": ".py",
   "mimetype": "text/x-python",
   "name": "python",
   "nbconvert_exporter": "python",
   "pygments_lexer": "ipython3",
   "version": "3.6.10"
  }
 },
 "nbformat": 4,
 "nbformat_minor": 4
}
